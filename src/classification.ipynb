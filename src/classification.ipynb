{
 "cells": [
  {
   "cell_type": "code",
   "execution_count": 1,
   "outputs": [],
   "source": [
    "%matplotlib inline\n",
    "import torch\n",
    "import torch.nn as nn\n",
    "from torch.utils.data import Dataset, DataLoader\n",
    "import numpy as np\n",
    "import pandas as pd\n",
    "from PIL import Image\n",
    "import json\n",
    "import os\n",
    "import torchvision\n",
    "import torchvision.transforms as transforms\n",
    "from math import ceil, floor\n",
    "from tqdm import tqdm\n",
    "import torch.nn.functional as F\n",
    "import torch.optim as optim\n",
    "import matplotlib.pyplot as plt\n",
    "from torchinfo import summary"
   ],
   "metadata": {
    "collapsed": false,
    "pycharm": {
     "name": "#%%\n"
    }
   }
  },
  {
   "cell_type": "markdown",
   "source": [
    "# Config"
   ],
   "metadata": {
    "collapsed": false,
    "pycharm": {
     "name": "#%% md\n"
    }
   }
  },
  {
   "cell_type": "code",
   "execution_count": 2,
   "outputs": [],
   "source": [
    "device = 'cuda' if torch.cuda.is_available() else 'cpu'\n",
    "batch_size = 16\n",
    "epochs = 10\n",
    "lr = 0.001\n",
    "split_size = 0.8\n",
    "\n",
    "path_to_anns = \"D:\\\\Studies\\\\ucenje\\\\keypoint_flickr\\\\data\\\\annotations\\\\all_data.json\"\n",
    "path_to_img = \"D:\\\\Studies\\\\ucenje\\\\keypoint_flickr\\\\data\\\\images\""
   ],
   "metadata": {
    "collapsed": false,
    "pycharm": {
     "name": "#%%\n"
    }
   }
  },
  {
   "cell_type": "markdown",
   "source": [
    "# Datasets and Dataloaders"
   ],
   "metadata": {
    "collapsed": false,
    "pycharm": {
     "name": "#%% md\n"
    }
   }
  },
  {
   "cell_type": "code",
   "execution_count": 3,
   "outputs": [],
   "source": [
    "class FlickrDatasetClassification(Dataset):\n",
    "    def __init__(self, path_to_anns, path_to_imgs, transform=None):\n",
    "        with open(path_to_anns, 'r') as f:\n",
    "            self.anns = json.loads(f.read())\n",
    "        self.image_path = path_to_imgs\n",
    "        self.transform = transform\n",
    "\n",
    "    def __len__(self):\n",
    "        return len(self.anns)\n",
    "\n",
    "    def __getitem__(self, idx):\n",
    "        img_path = os.path.join(self.image_path, self.anns[str(idx)][\"file_name\"])\n",
    "        image = Image.open(img_path).convert(\"RGB\")\n",
    "        orig_width, orig_height = image.size\n",
    "\n",
    "        image.thumbnail((224, 224))\n",
    "        image = np.array(image, dtype=np.uint8)\n",
    "        keypoints = np.array(self.anns[str(idx)][\"face_landmarks\"], dtype=np.float32)\n",
    "        keypoints = keypoints.clip(min=0, max=orig_height if orig_height >= orig_width else orig_width)\n",
    "        keypoints = keypoints * [224.0 / orig_width, 224.0 / orig_height]\n",
    "        keypoints = keypoints.astype('uint8')\n",
    "        new_keypoints = torch.zeros(68, 224, 224)\n",
    "        for i in range(len(new_keypoints)):\n",
    "            new_keypoints[i][keypoints[i][0]-1][keypoints[i][1]-1] = 1\n",
    "        if self.transform:\n",
    "            image = self.transform(image)\n",
    "\n",
    "        return image, new_keypoints, idx\n",
    "\n",
    "dataset_classification = FlickrDatasetClassification(path_to_anns,path_to_img,\n",
    "                        transform=transforms.ToTensor())\n",
    "train_len = ceil(len(dataset_classification) * split_size)\n",
    "val_len = ceil(len(dataset_classification) * (1-split_size))\n",
    "train_dataset_classification, val_dataset_classification = torch.utils.data.random_split(dataset_classification, (train_len, val_len))\n",
    "train_loader_classification = DataLoader(train_dataset_classification, batch_size=batch_size, shuffle=True)\n",
    "val_loader_classification = DataLoader(val_dataset_classification, batch_size=1, shuffle=False)"
   ],
   "metadata": {
    "collapsed": false,
    "pycharm": {
     "name": "#%%\n"
    }
   }
  },
  {
   "cell_type": "markdown",
   "source": [
    "# Utils"
   ],
   "metadata": {
    "collapsed": false,
    "pycharm": {
     "name": "#%% md\n"
    }
   }
  },
  {
   "cell_type": "code",
   "execution_count": 4,
   "outputs": [],
   "source": [
    "def plot_img_classification(predictions): # predictions list of tuple (index, predicted_keypoints)\n",
    "    transform = transforms.ToPILImage() # transform tensor back to PILImage\n",
    "\n",
    "    images, original_keypoints_list, predicted_keypoints_list = [], [], []\n",
    "\n",
    "    for i, data in enumerate(predictions):\n",
    "        image = dataset_classification[data[0].item()][0]\n",
    "        image = transform(image.cpu().detach())  # Images to PIL, keypoints to numpy array\n",
    "        images.append(image)\n",
    "        original_keypoints = dataset_classification[data[0].item()][1]\n",
    "        original_keypoints = original_keypoints.cpu().detach().numpy().reshape(-1, 2)\n",
    "        original_keypoints_list.append(original_keypoints)\n",
    "        predicted_keypoints = data[1].cpu().detach()\n",
    "        predicted_keypoints = np.reshape(predicted_keypoints, (1,2,0))\n",
    "        print(predicted_keypoints)\n",
    "        for i in range(224):\n",
    "            for j in range(224):\n",
    "                index_of_keypoint = np.argmax(predicted_keypoints[i][j])\n",
    "                max_of_keypoints = np.max(predicted_keypoints[i][j])\n",
    "                if max_of_keypoints > .50:\n",
    "                    predicted_keypoints_list.append((i, j))\n",
    "\n",
    "    original_keypoints_list = np.array(original_keypoints_list)\n",
    "    predicted_keypoints_list = np.array(predicted_keypoints_list)\n",
    "\n",
    "    plt.figure(figsize=(40,80))\n",
    "    for i in range(40):\n",
    "        plt.subplot(20, 2, i + 1)\n",
    "        plt.imshow(images[i // 2])\n",
    "        if i % 2 == 0:\n",
    "            for p in range(original_keypoints_list[i//2].shape[0]):\n",
    "                plt.plot(original_keypoints_list[i//2][p, 0], original_keypoints_list[i//2][p, 1], 'g.')\n",
    "        else:\n",
    "            for p in range(predicted_keypoints_list[i//2].shape[0]):\n",
    "                plt.plot(predicted_keypoints_list[i//2][p, 0], predicted_keypoints_list[i//2][p, 1], 'g.')\n",
    "    print(predicted_keypoints_list[0])\n",
    "    print(print(predictions[0][1]))\n",
    "    plt.plot()"
   ],
   "metadata": {
    "collapsed": false,
    "pycharm": {
     "name": "#%%\n"
    }
   }
  },
  {
   "cell_type": "markdown",
   "source": [
    "## Classification Model"
   ],
   "metadata": {
    "collapsed": false,
    "pycharm": {
     "name": "#%% md\n"
    }
   }
  },
  {
   "cell_type": "code",
   "execution_count": 5,
   "outputs": [],
   "source": [
    "class ClassificationCNN(nn.Module):\n",
    "    def __init__(self):\n",
    "        super(ClassificationCNN, self).__init__()\n",
    "        self.conv1 = nn.Conv2d(3, 16, 3)\n",
    "        self.conv2 = nn.Conv2d(16, 32, 3)\n",
    "        self.conv3 = nn.Conv2d(32, 68, 5)\n",
    "        self.batch1 = nn.BatchNorm2d(16)\n",
    "        self.batch2 = nn.BatchNorm2d(32)\n",
    "        self.batch3 = nn.BatchNorm2d(68)\n",
    "        self.pool = nn.MaxPool2d(2,2)\n",
    "        self.upsample1 = nn.Upsample(size=(50, 50), mode=\"bicubic\")\n",
    "        self.upsample2 = nn.Upsample(size=(110, 110), mode=\"bicubic\")\n",
    "        self.upsample3 = nn.Upsample(size=(224, 224), mode=\"bicubic\")\n",
    "    def forward(self, x):\n",
    "        x = self.batch1(self.pool(F.relu(self.conv1(x))))\n",
    "        x = self.batch2(self.pool(F.relu(self.conv2(x))))\n",
    "        x = self.batch3(self.pool(F.relu(self.conv3(x))))\n",
    "        x = self.upsample1(x)\n",
    "        x = self.upsample2(x)\n",
    "        x = self.upsample3(x)\n",
    "        return x"
   ],
   "metadata": {
    "collapsed": false,
    "pycharm": {
     "name": "#%%\n"
    }
   }
  },
  {
   "cell_type": "markdown",
   "source": [
    "# Training loop for regression"
   ],
   "metadata": {
    "collapsed": false,
    "pycharm": {
     "name": "#%% md\n"
    }
   }
  },
  {
   "cell_type": "markdown",
   "source": [
    "# Classification Model"
   ],
   "metadata": {
    "collapsed": false,
    "pycharm": {
     "name": "#%% md\n"
    }
   }
  },
  {
   "cell_type": "code",
   "execution_count": 6,
   "outputs": [],
   "source": [
    "class FlickrDatasetClassification(Dataset):\n",
    "    def __init__(self, path_to_anns, path_to_imgs, transform=None):\n",
    "        with open(path_to_anns, 'r') as f:\n",
    "            self.anns = json.loads(f.read())\n",
    "        self.image_path = path_to_imgs\n",
    "        self.transform = transform\n",
    "\n",
    "    def __len__(self):\n",
    "        return len(self.anns)\n",
    "\n",
    "    def __getitem__(self, idx):\n",
    "        img_path = os.path.join(self.image_path, self.anns[str(idx)][\"file_name\"])\n",
    "        image = Image.open(img_path).convert(\"RGB\")\n",
    "        orig_width, orig_height = image.size\n",
    "\n",
    "        image.thumbnail((224, 224))\n",
    "        image = np.array(image, dtype=np.uint8)\n",
    "        keypoints = np.array(self.anns[str(idx)][\"face_landmarks\"], dtype=np.float32)\n",
    "        keypoints = keypoints.clip(min=0, max=orig_height if orig_height >= orig_width else orig_width)\n",
    "        keypoints = keypoints * [224.0 / orig_width, 224.0 / orig_height]\n",
    "        keypoints = keypoints.astype('uint8')\n",
    "        new_keypoints = torch.zeros(68, 224, 224)\n",
    "        for i in range(len(new_keypoints)):\n",
    "            new_keypoints[i][keypoints[i][0]-1][keypoints[i][1]-1] = 1\n",
    "        if self.transform:\n",
    "            image = self.transform(image)\n",
    "\n",
    "        return image, new_keypoints, idx\n",
    "\n",
    "dataset_classification = FlickrDatasetClassification(path_to_anns,path_to_img,\n",
    "                                                     transform=transforms.ToTensor())\n",
    "train_len = ceil(len(dataset_classification) * split_size)\n",
    "val_len = ceil(len(dataset_classification) * (1-split_size))\n",
    "train_dataset_classification, val_dataset_classification = torch.utils.data.random_split(dataset_classification, (train_len, val_len))\n",
    "train_loader_classification = DataLoader(train_dataset_classification, batch_size=batch_size, shuffle=True)\n",
    "val_loader_classification = DataLoader(val_dataset_classification, batch_size=1, shuffle=False)"
   ],
   "metadata": {
    "collapsed": false,
    "pycharm": {
     "name": "#%%\n"
    }
   }
  },
  {
   "cell_type": "code",
   "execution_count": 7,
   "outputs": [
    {
     "data": {
      "text/plain": "==========================================================================================\nLayer (type:depth-idx)                   Output Shape              Param #\n==========================================================================================\nClassificationCNN                        [16, 68, 224, 224]        --\n├─Conv2d: 1-1                            [16, 16, 222, 222]        448\n├─MaxPool2d: 1-2                         [16, 16, 111, 111]        --\n├─BatchNorm2d: 1-3                       [16, 16, 111, 111]        32\n├─Conv2d: 1-4                            [16, 32, 109, 109]        4,640\n├─MaxPool2d: 1-5                         [16, 32, 54, 54]          --\n├─BatchNorm2d: 1-6                       [16, 32, 54, 54]          64\n├─Conv2d: 1-7                            [16, 68, 50, 50]          54,468\n├─MaxPool2d: 1-8                         [16, 68, 25, 25]          --\n├─BatchNorm2d: 1-9                       [16, 68, 25, 25]          136\n├─Upsample: 1-10                         [16, 68, 50, 50]          --\n├─Upsample: 1-11                         [16, 68, 110, 110]        --\n├─Upsample: 1-12                         [16, 68, 224, 224]        --\n==========================================================================================\nTotal params: 59,788\nTrainable params: 59,788\nNon-trainable params: 0\nTotal mult-adds (G): 3.41\n==========================================================================================\nInput size (MB): 9.63\nForward/backward pass size (MB): 213.98\nParams size (MB): 0.24\nEstimated Total Size (MB): 223.85\n=========================================================================================="
     },
     "execution_count": 7,
     "metadata": {},
     "output_type": "execute_result"
    }
   ],
   "source": [
    "model = ClassificationCNN().to(device)\n",
    "summary(model, input_size=(batch_size, 3, 224, 224))"
   ],
   "metadata": {
    "collapsed": false,
    "pycharm": {
     "name": "#%%\n"
    }
   }
  },
  {
   "cell_type": "code",
   "execution_count": 8,
   "outputs": [
    {
     "name": "stderr",
     "output_type": "stream",
     "text": [
      "100%|██████████| 250/250 [01:29<00:00,  2.79it/s]\n"
     ]
    },
    {
     "name": "stdout",
     "output_type": "stream",
     "text": [
      "Epoch: 1\n",
      "Train_loss at epoch 1: 0.0042826280351728205\n"
     ]
    },
    {
     "name": "stderr",
     "output_type": "stream",
     "text": [
      "100%|██████████| 250/250 [01:30<00:00,  2.75it/s]\n"
     ]
    },
    {
     "name": "stdout",
     "output_type": "stream",
     "text": [
      "Epoch: 2\n",
      "Train_loss at epoch 2: 0.003575248851440847\n"
     ]
    },
    {
     "name": "stderr",
     "output_type": "stream",
     "text": [
      "100%|██████████| 250/250 [01:31<00:00,  2.73it/s]\n"
     ]
    },
    {
     "name": "stdout",
     "output_type": "stream",
     "text": [
      "Epoch: 3\n",
      "Train_loss at epoch 3: 0.0033735656328499316\n"
     ]
    },
    {
     "name": "stderr",
     "output_type": "stream",
     "text": [
      "100%|██████████| 250/250 [01:31<00:00,  2.73it/s]\n"
     ]
    },
    {
     "name": "stdout",
     "output_type": "stream",
     "text": [
      "Epoch: 4\n",
      "Train_loss at epoch 4: 0.003272678516805172\n"
     ]
    },
    {
     "name": "stderr",
     "output_type": "stream",
     "text": [
      "100%|██████████| 250/250 [01:33<00:00,  2.67it/s]\n"
     ]
    },
    {
     "name": "stdout",
     "output_type": "stream",
     "text": [
      "Epoch: 5\n",
      "Train_loss at epoch 5: 0.003195893209427595\n"
     ]
    },
    {
     "name": "stderr",
     "output_type": "stream",
     "text": [
      "100%|██████████| 250/250 [01:29<00:00,  2.78it/s]\n"
     ]
    },
    {
     "name": "stdout",
     "output_type": "stream",
     "text": [
      "Epoch: 6\n",
      "Train_loss at epoch 6: 0.0031523521151393652\n"
     ]
    },
    {
     "name": "stderr",
     "output_type": "stream",
     "text": [
      "100%|██████████| 250/250 [01:28<00:00,  2.82it/s]\n"
     ]
    },
    {
     "name": "stdout",
     "output_type": "stream",
     "text": [
      "Epoch: 7\n",
      "Train_loss at epoch 7: 0.003101418474689126\n"
     ]
    },
    {
     "name": "stderr",
     "output_type": "stream",
     "text": [
      "100%|██████████| 250/250 [01:30<00:00,  2.76it/s]\n"
     ]
    },
    {
     "name": "stdout",
     "output_type": "stream",
     "text": [
      "Epoch: 8\n",
      "Train_loss at epoch 8: 0.0030718903969973324\n"
     ]
    },
    {
     "name": "stderr",
     "output_type": "stream",
     "text": [
      "100%|██████████| 250/250 [01:30<00:00,  2.77it/s]\n"
     ]
    },
    {
     "name": "stdout",
     "output_type": "stream",
     "text": [
      "Epoch: 9\n",
      "Train_loss at epoch 9: 0.0030454199090600015\n"
     ]
    },
    {
     "name": "stderr",
     "output_type": "stream",
     "text": [
      "100%|██████████| 250/250 [01:32<00:00,  2.69it/s]"
     ]
    },
    {
     "name": "stdout",
     "output_type": "stream",
     "text": [
      "Epoch: 10\n",
      "Train_loss at epoch 10: 0.003022938188165426\n"
     ]
    },
    {
     "name": "stderr",
     "output_type": "stream",
     "text": [
      "\n"
     ]
    }
   ],
   "source": [
    "torch.cuda.empty_cache()\n",
    "#model = ClassificationCNN().to(device)\n",
    "criterion = nn.CrossEntropyLoss()\n",
    "optimizer = optim.Adam(model.parameters(), lr=lr)\n",
    "\n",
    "train_loss = []\n",
    "\n",
    "for epoch in range(epochs):\n",
    "    train_running_loss = 0.0\n",
    "    for i, data in tqdm(enumerate(train_loader_classification), total=(len(train_loader_classification))):\n",
    "        images, keypoints = data[0].to(device, dtype=torch.float32), data[1].to(device, dtype=torch.float32)\n",
    "        preds = model(images)\n",
    "        loss = criterion(preds, keypoints)\n",
    "        loss.backward()\n",
    "        optimizer.step()\n",
    "        optimizer.zero_grad()\n",
    "\n",
    "        train_running_loss += loss.item()\n",
    "    train_loss.append(train_running_loss / (ceil(len(train_dataset_classification) / batch_size)))\n",
    "\n",
    "    #model.eval()\n",
    "\n",
    "    #with torch.no_grad():\n",
    "    #    val_running_loss = 0.0\n",
    "    #    for i, data in tqdm(enumerate(val_loader), total=(len(val_loader))):\n",
    "    #        image, keypoints = data[0].to(device), data[1].to(device)\n",
    "    #        preds = model(image)\n",
    "    #        loss = criterion(preds, keypoints)\n",
    "    #        val_running_loss += loss.item()\n",
    "    #    val_loss.append(val_running_loss / ceil(len(val_dataset) / batch_size))\n",
    "    print(f'Epoch: {epoch + 1}')\n",
    "    print(f'Train_loss at epoch {epoch + 1}: {train_loss[-1]}')"
   ],
   "metadata": {
    "collapsed": false,
    "pycharm": {
     "name": "#%%\n"
    }
   }
  },
  {
   "cell_type": "code",
   "execution_count": 9,
   "outputs": [
    {
     "data": {
      "text/plain": "<Figure size 1080x504 with 1 Axes>",
      "image/png": "[encoded data removed]"
     },
     "metadata": {
      "needs_background": "light"
     },
     "output_type": "display_data"
    }
   ],
   "source": [
    "plt.figure(figsize=(15,7))\n",
    "plt.plot(train_loss, label=\"train\")\n",
    "plt.xlabel(\"iterations\")\n",
    "plt.ylabel(\"Loss\")\n",
    "plt.legend()\n",
    "plt.show()"
   ],
   "metadata": {
    "collapsed": false,
    "pycharm": {
     "name": "#%%\n"
    }
   }
  },
  {
   "cell_type": "code",
   "execution_count": 10,
   "outputs": [
    {
     "ename": "RuntimeError",
     "evalue": "CUDA out of memory. Tried to allocate 14.00 MiB (GPU 0; 11.00 GiB total capacity; 10.26 GiB already allocated; 0 bytes free; 10.33 GiB reserved in total by PyTorch) If reserved memory is >> allocated memory try setting max_split_size_mb to avoid fragmentation.  See documentation for Memory Management and PYTORCH_CUDA_ALLOC_CONF",
     "output_type": "error",
     "traceback": [
      "\u001B[1;31m---------------------------------------------------------------------------\u001B[0m",
      "\u001B[1;31mRuntimeError\u001B[0m                              Traceback (most recent call last)",
      "Input \u001B[1;32mIn [10]\u001B[0m, in \u001B[0;36m<cell line: 4>\u001B[1;34m()\u001B[0m\n\u001B[0;32m      5\u001B[0m \u001B[38;5;28;01mfor\u001B[39;00m i, data \u001B[38;5;129;01min\u001B[39;00m \u001B[38;5;28menumerate\u001B[39m(val_loader_classification):\n\u001B[0;32m      6\u001B[0m     images, keypoints, index \u001B[38;5;241m=\u001B[39m data[\u001B[38;5;241m0\u001B[39m]\u001B[38;5;241m.\u001B[39mto(device), data[\u001B[38;5;241m1\u001B[39m]\u001B[38;5;241m.\u001B[39mto(device), data[\u001B[38;5;241m2\u001B[39m]\n\u001B[1;32m----> 7\u001B[0m     pred \u001B[38;5;241m=\u001B[39m \u001B[43msoft\u001B[49m\u001B[43m(\u001B[49m\u001B[43mmodel\u001B[49m\u001B[43m(\u001B[49m\u001B[43mimages\u001B[49m\u001B[43m)\u001B[49m\u001B[43m)\u001B[49m\n\u001B[0;32m      8\u001B[0m     predictions\u001B[38;5;241m.\u001B[39mappend((index, pred))\n",
      "File \u001B[1;32m~\\anaconda3\\envs\\pytorch_tutorial\\lib\\site-packages\\torch\\nn\\modules\\module.py:1130\u001B[0m, in \u001B[0;36mModule._call_impl\u001B[1;34m(self, *input, **kwargs)\u001B[0m\n\u001B[0;32m   1126\u001B[0m \u001B[38;5;66;03m# If we don't have any hooks, we want to skip the rest of the logic in\u001B[39;00m\n\u001B[0;32m   1127\u001B[0m \u001B[38;5;66;03m# this function, and just call forward.\u001B[39;00m\n\u001B[0;32m   1128\u001B[0m \u001B[38;5;28;01mif\u001B[39;00m \u001B[38;5;129;01mnot\u001B[39;00m (\u001B[38;5;28mself\u001B[39m\u001B[38;5;241m.\u001B[39m_backward_hooks \u001B[38;5;129;01mor\u001B[39;00m \u001B[38;5;28mself\u001B[39m\u001B[38;5;241m.\u001B[39m_forward_hooks \u001B[38;5;129;01mor\u001B[39;00m \u001B[38;5;28mself\u001B[39m\u001B[38;5;241m.\u001B[39m_forward_pre_hooks \u001B[38;5;129;01mor\u001B[39;00m _global_backward_hooks\n\u001B[0;32m   1129\u001B[0m         \u001B[38;5;129;01mor\u001B[39;00m _global_forward_hooks \u001B[38;5;129;01mor\u001B[39;00m _global_forward_pre_hooks):\n\u001B[1;32m-> 1130\u001B[0m     \u001B[38;5;28;01mreturn\u001B[39;00m forward_call(\u001B[38;5;241m*\u001B[39m\u001B[38;5;28minput\u001B[39m, \u001B[38;5;241m*\u001B[39m\u001B[38;5;241m*\u001B[39mkwargs)\n\u001B[0;32m   1131\u001B[0m \u001B[38;5;66;03m# Do not call functions when jit is used\u001B[39;00m\n\u001B[0;32m   1132\u001B[0m full_backward_hooks, non_full_backward_hooks \u001B[38;5;241m=\u001B[39m [], []\n",
      "File \u001B[1;32m~\\anaconda3\\envs\\pytorch_tutorial\\lib\\site-packages\\torch\\nn\\modules\\activation.py:1376\u001B[0m, in \u001B[0;36mSoftmax.forward\u001B[1;34m(self, input)\u001B[0m\n\u001B[0;32m   1375\u001B[0m \u001B[38;5;28;01mdef\u001B[39;00m \u001B[38;5;21mforward\u001B[39m(\u001B[38;5;28mself\u001B[39m, \u001B[38;5;28minput\u001B[39m: Tensor) \u001B[38;5;241m-\u001B[39m\u001B[38;5;241m>\u001B[39m Tensor:\n\u001B[1;32m-> 1376\u001B[0m     \u001B[38;5;28;01mreturn\u001B[39;00m \u001B[43mF\u001B[49m\u001B[38;5;241;43m.\u001B[39;49m\u001B[43msoftmax\u001B[49m\u001B[43m(\u001B[49m\u001B[38;5;28;43minput\u001B[39;49m\u001B[43m,\u001B[49m\u001B[43m \u001B[49m\u001B[38;5;28;43mself\u001B[39;49m\u001B[38;5;241;43m.\u001B[39;49m\u001B[43mdim\u001B[49m\u001B[43m,\u001B[49m\u001B[43m \u001B[49m\u001B[43m_stacklevel\u001B[49m\u001B[38;5;241;43m=\u001B[39;49m\u001B[38;5;241;43m5\u001B[39;49m\u001B[43m)\u001B[49m\n",
      "File \u001B[1;32m~\\anaconda3\\envs\\pytorch_tutorial\\lib\\site-packages\\torch\\nn\\functional.py:1834\u001B[0m, in \u001B[0;36msoftmax\u001B[1;34m(input, dim, _stacklevel, dtype)\u001B[0m\n\u001B[0;32m   1832\u001B[0m     dim \u001B[38;5;241m=\u001B[39m _get_softmax_dim(\u001B[38;5;124m\"\u001B[39m\u001B[38;5;124msoftmax\u001B[39m\u001B[38;5;124m\"\u001B[39m, \u001B[38;5;28minput\u001B[39m\u001B[38;5;241m.\u001B[39mdim(), _stacklevel)\n\u001B[0;32m   1833\u001B[0m \u001B[38;5;28;01mif\u001B[39;00m dtype \u001B[38;5;129;01mis\u001B[39;00m \u001B[38;5;28;01mNone\u001B[39;00m:\n\u001B[1;32m-> 1834\u001B[0m     ret \u001B[38;5;241m=\u001B[39m \u001B[38;5;28;43minput\u001B[39;49m\u001B[38;5;241;43m.\u001B[39;49m\u001B[43msoftmax\u001B[49m\u001B[43m(\u001B[49m\u001B[43mdim\u001B[49m\u001B[43m)\u001B[49m\n\u001B[0;32m   1835\u001B[0m \u001B[38;5;28;01melse\u001B[39;00m:\n\u001B[0;32m   1836\u001B[0m     ret \u001B[38;5;241m=\u001B[39m \u001B[38;5;28minput\u001B[39m\u001B[38;5;241m.\u001B[39msoftmax(dim, dtype\u001B[38;5;241m=\u001B[39mdtype)\n",
      "\u001B[1;31mRuntimeError\u001B[0m: CUDA out of memory. Tried to allocate 14.00 MiB (GPU 0; 11.00 GiB total capacity; 10.26 GiB already allocated; 0 bytes free; 10.33 GiB reserved in total by PyTorch) If reserved memory is >> allocated memory try setting max_split_size_mb to avoid fragmentation.  See documentation for Memory Management and PYTORCH_CUDA_ALLOC_CONF"
     ]
    }
   ],
   "source": [
    "model.eval()\n",
    "predictions = []\n",
    "soft = nn.Softmax(dim=1)\n",
    "with torch.no_grad():\n",
    "    for i, data in enumerate(val_loader_classification):\n",
    "        images, keypoints, index = data[0].to(device), data[1].to(device), data[2]\n",
    "        pred = soft(model(images))\n",
    "        predictions.append((index, pred))"
   ],
   "metadata": {
    "collapsed": false,
    "pycharm": {
     "name": "#%%\n"
    }
   }
  },
  {
   "cell_type": "code",
   "execution_count": null,
   "outputs": [],
   "source": [
    "plot_img_classification(predictions)"
   ],
   "metadata": {
    "collapsed": false,
    "pycharm": {
     "name": "#%%\n"
    }
   }
  }
 ],
 "metadata": {
  "kernelspec": {
   "name": "pytorch_tutorial",
   "language": "python",
   "display_name": "pytorch_tutorial"
  },
  "language_info": {
   "codemirror_mode": {
    "name": "ipython",
    "version": 2
   },
   "file_extension": ".py",
   "mimetype": "text/x-python",
   "name": "python",
   "nbconvert_exporter": "python",
   "pygments_lexer": "ipython2",
   "version": "2.7.6"
  }
 },
 "nbformat": 4,
 "nbformat_minor": 0
}