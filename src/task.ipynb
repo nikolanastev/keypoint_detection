{
 "cells": [
  {
   "cell_type": "code",
   "execution_count": 1,
   "outputs": [],
   "source": [
    "import torch\n",
    "import torch.nn as nn\n",
    "import numpy as np\n",
    "import matplotlib.pyplot as plt\n",
    "from PIL import Image\n",
    "import json\n",
    "import os\n",
    "from pycocotools.coco import COCO\n",
    "import torch.optim as optim\n",
    "import torch.nn.functional as F\n",
    "import pandas as pd\n",
    "from tqdm import tqdm\n",
    "from math import ceil"
   ],
   "metadata": {
    "collapsed": false,
    "pycharm": {
     "name": "#%%\n"
    }
   }
  },
  {
   "cell_type": "code",
   "execution_count": 2,
   "outputs": [],
   "source": [
    "device = 'cuda' if torch.cuda.is_available() else 'cpu'\n",
    "lr = 0.001\n",
    "epochs = 25\n",
    "batch_size = 128\n",
    "\n",
    "\n",
    "path_to_train_image = \"D:\\\\Studies\\\\ucenje\\\\keypoint_detection_coco\\\\data\\\\train2017\\\\\"\n",
    "path_to_train_anns = \"D:\\\\Studies\\\\ucenje\\\\keypoint_detection_coco\\\\data\\\\annotations\\\\coco_wholebody_train_v1.0.json\"\n",
    "path_to_val_image = \"D:\\\\Studies\\\\ucenje\\\\keypoint_detection_coco\\\\data\\\\val2017\\\\\"\n",
    "path_to_val_anns = \"D:\\\\Studies\\\\ucenje\\\\keypoint_detection_coco\\\\data\\\\annotations\\\\coco_wholebody_val_v1.0.json\""
   ],
   "metadata": {
    "collapsed": false,
    "pycharm": {
     "name": "#%%\n"
    }
   }
  },
  {
   "cell_type": "markdown",
   "source": [
    "# Prepare data"
   ],
   "metadata": {
    "collapsed": false,
    "pycharm": {
     "name": "#%% md\n"
    }
   }
  },
  {
   "cell_type": "code",
   "execution_count": 3,
   "outputs": [
    {
     "name": "stdout",
     "output_type": "stream",
     "text": [
      "loading annotations into memory...\n",
      "Done (t=47.17s)\n",
      "creating index...\n",
      "index created!\n",
      "loading annotations into memory...\n",
      "Done (t=1.57s)\n",
      "creating index...\n",
      "index created!\n"
     ]
    }
   ],
   "source": [
    "class CocoDataset(torch.utils.data.Dataset):\n",
    "    def __init__(self, path_to_images, path_to_anns):\n",
    "        super(CocoDataset, self).__init__()\n",
    "        coco = COCO(path_to_anns)\n",
    "        self.anns = coco.loadAnns(coco.getAnnIds(imgIds=coco.getImgIds(catIds=[1]), catIds=[1]))\n",
    "        self.path_to_images = path_to_images\n",
    "\n",
    "        # Loading data from annotations and cleaning it to make a simple dataset\n",
    "        all_entries = [[self.anns[i][\"keypoints\"][j] for j in range(len(self.anns[i][\"keypoints\"])) if j % 3 != 0] for i in range(len(self.anns))]\n",
    "        for i in range(len(self.anns)):\n",
    "            all_entries[i].append(self.anns[i]['image_id'])\n",
    "\n",
    "        columns = np.array([\n",
    "            \"nose\",\n",
    "            \"left_eye\",\n",
    "            \"right_eye\",\n",
    "            \"left_ear\",\n",
    "            \"right_ear\",\n",
    "            \"left_shoulder\",\n",
    "            \"right_shoulder\",\n",
    "            \"left_elbow\",\n",
    "            \"right_elbow\",\n",
    "            \"left_wrist\",\n",
    "            \"right_wrist\",\n",
    "            \"left_hip\",\n",
    "            \"right_hip\",\n",
    "            \"left_knee\",\n",
    "            \"right_knee\",\n",
    "            \"left_ankle\",\n",
    "            \"right_ankle\"\n",
    "        ])\n",
    "\n",
    "        columns = [x for pair in zip(columns, columns) for x in pair]\n",
    "        for i in range(len(columns)):\n",
    "            if i % 2 == 0:\n",
    "                columns[i] = columns[i] + '.x'\n",
    "            else:\n",
    "                columns[i] = columns[i] + '.y'\n",
    "\n",
    "        columns = columns + [\"id\"]\n",
    "        all_entries_df = pd.DataFrame(all_entries, columns=columns)\n",
    "        self.data = all_entries_df[~(all_entries_df == 0).any(axis=1)].drop_duplicates(subset=[\"id\"])\n",
    "        # 6830 rows x 35 columns, (x,y) of specific keypoint * 17, id of image\n",
    "        # every image has one person on it\n",
    "\n",
    "    def __len__(self):\n",
    "        return len(self.data)\n",
    "\n",
    "    def __getitem__(self, index):\n",
    "        image_id = str(self.data.id.iloc[index]).zfill(12) + '.jpg'\n",
    "        image = Image.open(self.path_to_images + image_id).convert(\"RGB\")\n",
    "        original_width, original_height = image.size\n",
    "        image = np.asarray(image.resize((200, 200)), dtype=\"float32\")\n",
    "        image = image / 255.\n",
    "        image = image.transpose(2, 0, 1)\n",
    "        keypoints = self.data.iloc[index][:34]\n",
    "        keypoints = np.array(keypoints, dtype=\"float32\")\n",
    "        keypoints = keypoints.reshape(-1, 2)\n",
    "        keypoints = keypoints * [200 / original_width, 200 / original_height]\n",
    "        return {\n",
    "            \"image\": torch.tensor(image, dtype=torch.float32),\n",
    "            \"keypoints\": torch.tensor(keypoints, dtype=torch.float32)\n",
    "        }\n",
    "\n",
    "\n",
    "train_data = CocoDataset(path_to_train_image, path_to_train_anns)\n",
    "val_data = CocoDataset(path_to_val_image, path_to_val_anns)\n",
    "\n",
    "train_loader = torch.utils.data.DataLoader(train_data, batch_size=batch_size, shuffle=True)\n",
    "val_loader = torch.utils.data.DataLoader(val_data, batch_size=batch_size, shuffle=False)"
   ],
   "metadata": {
    "collapsed": false,
    "pycharm": {
     "name": "#%%\n"
    }
   }
  },
  {
   "cell_type": "markdown",
   "source": [
    "# Create model"
   ],
   "metadata": {
    "collapsed": false,
    "pycharm": {
     "name": "#%% md\n"
    }
   }
  },
  {
   "cell_type": "code",
   "execution_count": 4,
   "outputs": [],
   "source": [
    "class SimpleCNN(nn.Module):\n",
    "    def __init__(self):\n",
    "        super(SimpleCNN, self).__init__()\n",
    "        self.conv1 = nn.Conv2d(3, 16, 7)\n",
    "        self.pool = nn.MaxPool2d(2,2)\n",
    "        self.conv2 = nn.Conv2d(16, 32, 5)\n",
    "        self.conv3 = nn.Conv2d(32, 64, 3)\n",
    "        self.conv4 = nn.Conv2d(64, 128, 3)\n",
    "        self.linear1 = nn.LazyLinear(4096)\n",
    "        self.linear2 = nn.Linear(4096, 1000)\n",
    "        self.linear3 = nn.Linear(1000, 512)\n",
    "        self.linear4 = nn.Linear(512, 100)\n",
    "        self.linear5 = nn.Linear(100, 34)\n",
    "\n",
    "    def forward(self, x):\n",
    "        x = self.pool(F.relu(self.conv1(x)))\n",
    "        x = self.pool(F.relu(self.conv2(x)))\n",
    "        x = self.pool(F.relu(self.conv3(x)))\n",
    "        x = F.relu(self.conv4(x))\n",
    "        x = x.reshape(x.shape[0], -1)\n",
    "        x = F.relu(self.linear1(x))\n",
    "        x = F.relu(self.linear2(x))\n",
    "        x = F.relu(self.linear3(x))\n",
    "        x = F.relu(self.linear4(x))\n",
    "        x = self.linear5(x)\n",
    "        return x"
   ],
   "metadata": {
    "collapsed": false,
    "pycharm": {
     "name": "#%%\n"
    }
   }
  },
  {
   "cell_type": "markdown",
   "source": [
    "# Train loop"
   ],
   "metadata": {
    "collapsed": false,
    "pycharm": {
     "name": "#%% md\n"
    }
   }
  },
  {
   "cell_type": "code",
   "execution_count": 5,
   "outputs": [
    {
     "name": "stderr",
     "output_type": "stream",
     "text": [
      "C:\\Users\\user\\anaconda3\\envs\\pytorch_tutorial\\lib\\site-packages\\torch\\nn\\modules\\lazy.py:178: UserWarning: Lazy modules are a new feature under heavy development so changes to the API or functionality can happen at any moment.\n",
      "  warnings.warn('Lazy modules are a new feature under heavy development '\n",
      "54it [01:07,  1.25s/it]\n",
      "3it [00:02,  1.36it/s]\n"
     ]
    },
    {
     "name": "stdout",
     "output_type": "stream",
     "text": [
      "Epoch 1\n"
     ]
    },
    {
     "name": "stderr",
     "output_type": "stream",
     "text": [
      "54it [01:01,  1.15s/it]\n",
      "3it [00:02,  1.36it/s]\n"
     ]
    },
    {
     "name": "stdout",
     "output_type": "stream",
     "text": [
      "Epoch 2\n"
     ]
    },
    {
     "name": "stderr",
     "output_type": "stream",
     "text": [
      "54it [01:03,  1.17s/it]\n",
      "3it [00:02,  1.42it/s]\n"
     ]
    },
    {
     "name": "stdout",
     "output_type": "stream",
     "text": [
      "Epoch 3\n"
     ]
    },
    {
     "name": "stderr",
     "output_type": "stream",
     "text": [
      "54it [01:00,  1.11s/it]\n",
      "3it [00:02,  1.37it/s]\n"
     ]
    },
    {
     "name": "stdout",
     "output_type": "stream",
     "text": [
      "Epoch 4\n"
     ]
    },
    {
     "name": "stderr",
     "output_type": "stream",
     "text": [
      "54it [00:59,  1.10s/it]\n",
      "3it [00:02,  1.48it/s]\n"
     ]
    },
    {
     "name": "stdout",
     "output_type": "stream",
     "text": [
      "Epoch 5\n"
     ]
    },
    {
     "name": "stderr",
     "output_type": "stream",
     "text": [
      "54it [00:59,  1.11s/it]\n",
      "3it [00:02,  1.49it/s]\n"
     ]
    },
    {
     "name": "stdout",
     "output_type": "stream",
     "text": [
      "Epoch 6\n"
     ]
    },
    {
     "name": "stderr",
     "output_type": "stream",
     "text": [
      "54it [00:59,  1.10s/it]\n",
      "3it [00:02,  1.40it/s]\n"
     ]
    },
    {
     "name": "stdout",
     "output_type": "stream",
     "text": [
      "Epoch 7\n"
     ]
    },
    {
     "name": "stderr",
     "output_type": "stream",
     "text": [
      "54it [00:59,  1.10s/it]\n",
      "3it [00:02,  1.50it/s]\n"
     ]
    },
    {
     "name": "stdout",
     "output_type": "stream",
     "text": [
      "Epoch 8\n"
     ]
    },
    {
     "name": "stderr",
     "output_type": "stream",
     "text": [
      "54it [00:59,  1.10s/it]\n",
      "3it [00:02,  1.46it/s]\n"
     ]
    },
    {
     "name": "stdout",
     "output_type": "stream",
     "text": [
      "Epoch 9\n"
     ]
    },
    {
     "name": "stderr",
     "output_type": "stream",
     "text": [
      "54it [00:58,  1.09s/it]\n",
      "3it [00:02,  1.47it/s]\n"
     ]
    },
    {
     "name": "stdout",
     "output_type": "stream",
     "text": [
      "Epoch 10\n"
     ]
    },
    {
     "name": "stderr",
     "output_type": "stream",
     "text": [
      "54it [00:59,  1.10s/it]\n",
      "3it [00:02,  1.48it/s]\n"
     ]
    },
    {
     "name": "stdout",
     "output_type": "stream",
     "text": [
      "Epoch 11\n"
     ]
    },
    {
     "name": "stderr",
     "output_type": "stream",
     "text": [
      "54it [00:58,  1.09s/it]\n",
      "3it [00:02,  1.40it/s]\n"
     ]
    },
    {
     "name": "stdout",
     "output_type": "stream",
     "text": [
      "Epoch 12\n"
     ]
    },
    {
     "name": "stderr",
     "output_type": "stream",
     "text": [
      "54it [00:59,  1.09s/it]\n",
      "3it [00:02,  1.47it/s]\n"
     ]
    },
    {
     "name": "stdout",
     "output_type": "stream",
     "text": [
      "Epoch 13\n"
     ]
    },
    {
     "name": "stderr",
     "output_type": "stream",
     "text": [
      "54it [00:59,  1.09s/it]\n",
      "3it [00:02,  1.44it/s]\n"
     ]
    },
    {
     "name": "stdout",
     "output_type": "stream",
     "text": [
      "Epoch 14\n"
     ]
    },
    {
     "name": "stderr",
     "output_type": "stream",
     "text": [
      "54it [00:58,  1.09s/it]\n",
      "3it [00:02,  1.46it/s]\n"
     ]
    },
    {
     "name": "stdout",
     "output_type": "stream",
     "text": [
      "Epoch 15\n"
     ]
    },
    {
     "name": "stderr",
     "output_type": "stream",
     "text": [
      "54it [00:58,  1.09s/it]\n",
      "3it [00:02,  1.48it/s]\n"
     ]
    },
    {
     "name": "stdout",
     "output_type": "stream",
     "text": [
      "Epoch 16\n"
     ]
    },
    {
     "name": "stderr",
     "output_type": "stream",
     "text": [
      "54it [01:00,  1.13s/it]\n",
      "3it [00:02,  1.38it/s]\n"
     ]
    },
    {
     "name": "stdout",
     "output_type": "stream",
     "text": [
      "Epoch 17\n"
     ]
    },
    {
     "name": "stderr",
     "output_type": "stream",
     "text": [
      "54it [00:59,  1.10s/it]\n",
      "3it [00:01,  1.50it/s]\n"
     ]
    },
    {
     "name": "stdout",
     "output_type": "stream",
     "text": [
      "Epoch 18\n"
     ]
    },
    {
     "name": "stderr",
     "output_type": "stream",
     "text": [
      "54it [00:59,  1.09s/it]\n",
      "3it [00:02,  1.45it/s]\n"
     ]
    },
    {
     "name": "stdout",
     "output_type": "stream",
     "text": [
      "Epoch 19\n"
     ]
    },
    {
     "name": "stderr",
     "output_type": "stream",
     "text": [
      "54it [00:58,  1.09s/it]\n",
      "3it [00:02,  1.48it/s]\n"
     ]
    },
    {
     "name": "stdout",
     "output_type": "stream",
     "text": [
      "Epoch 20\n"
     ]
    },
    {
     "name": "stderr",
     "output_type": "stream",
     "text": [
      "54it [00:59,  1.10s/it]\n",
      "3it [00:02,  1.48it/s]\n"
     ]
    },
    {
     "name": "stdout",
     "output_type": "stream",
     "text": [
      "Epoch 21\n"
     ]
    },
    {
     "name": "stderr",
     "output_type": "stream",
     "text": [
      "54it [00:58,  1.09s/it]\n",
      "3it [00:02,  1.45it/s]\n"
     ]
    },
    {
     "name": "stdout",
     "output_type": "stream",
     "text": [
      "Epoch 22\n"
     ]
    },
    {
     "name": "stderr",
     "output_type": "stream",
     "text": [
      "54it [00:58,  1.09s/it]\n",
      "3it [00:01,  1.52it/s]\n"
     ]
    },
    {
     "name": "stdout",
     "output_type": "stream",
     "text": [
      "Epoch 23\n"
     ]
    },
    {
     "name": "stderr",
     "output_type": "stream",
     "text": [
      "54it [00:58,  1.09s/it]\n",
      "3it [00:02,  1.40it/s]\n"
     ]
    },
    {
     "name": "stdout",
     "output_type": "stream",
     "text": [
      "Epoch 24\n"
     ]
    },
    {
     "name": "stderr",
     "output_type": "stream",
     "text": [
      "54it [01:00,  1.12s/it]\n",
      "3it [00:02,  1.41it/s]"
     ]
    },
    {
     "name": "stdout",
     "output_type": "stream",
     "text": [
      "Epoch 25\n"
     ]
    },
    {
     "name": "stderr",
     "output_type": "stream",
     "text": [
      "\n"
     ]
    }
   ],
   "source": [
    "torch.cuda.empty_cache()\n",
    "model = SimpleCNN().to(device)\n",
    "criterion = nn.MSELoss().to(device)\n",
    "optimizer = optim.AdamW(model.parameters(), lr=lr, weight_decay=0.01)\n",
    "\n",
    "train_loss = []\n",
    "val_loss = []\n",
    "for epoch in range(epochs):\n",
    "    train_running_loss = 0.0\n",
    "    val_running_loss = 0.0\n",
    "    model.train()\n",
    "    for i, data in tqdm(enumerate(train_loader)):\n",
    "        image, keypoints = data['image'].to(device), data[\"keypoints\"].to(device)\n",
    "        keypoints = keypoints.view(keypoints.size(0), -1)\n",
    "        preds = model(image)\n",
    "        loss = criterion(preds, keypoints)\n",
    "        train_running_loss += loss.item()\n",
    "        loss.backward()\n",
    "        optimizer.step()\n",
    "        optimizer.zero_grad()\n",
    "\n",
    "        train_running_loss += loss.item()\n",
    "    train_loss.append(train_running_loss / (ceil(len(train_loader) / batch_size)))\n",
    "\n",
    "    torch.cuda.empty_cache()\n",
    "    model.eval()\n",
    "\n",
    "    with torch.no_grad():\n",
    "        val_running_loss = 0.0\n",
    "        for i, data in tqdm(enumerate(val_loader)):\n",
    "            image, keypoints = data['image'].to(device), data['keypoints'].to(device)\n",
    "            keypoints = keypoints.view(keypoints.size(0), -1)\n",
    "            preds = model(image)\n",
    "            loss = criterion(preds, keypoints)\n",
    "            val_running_loss += loss.item()\n",
    "        val_loss.append(val_running_loss / (ceil(len(val_loader) / batch_size)))\n",
    "    print(f'Epoch {epoch + 1}')\n"
   ],
   "metadata": {
    "collapsed": false,
    "pycharm": {
     "name": "#%%\n"
    }
   }
  },
  {
   "cell_type": "code",
   "execution_count": 7,
   "outputs": [
    {
     "data": {
      "text/plain": "<Figure size 1080x504 with 1 Axes>",
      "image/png": "[encoded data removed]"
     },
     "metadata": {
      "needs_background": "light"
     },
     "output_type": "display_data"
    }
   ],
   "source": [
    "plt.figure(figsize=(15,7))\n",
    "plt.plot(train_loss, label=\"train\")\n",
    "plt.plot(val_loss, label=\"val\")\n",
    "plt.xlabel(\"iterations\")\n",
    "plt.ylabel(\"Loss\")\n",
    "plt.legend()\n",
    "plt.show()"
   ],
   "metadata": {
    "collapsed": false,
    "pycharm": {
     "name": "#%%\n"
    }
   }
  },
  {
   "cell_type": "code",
   "execution_count": 8,
   "outputs": [],
   "source": [
    "# Todo"
   ],
   "metadata": {
    "collapsed": false,
    "pycharm": {
     "name": "#%%\n"
    }
   }
  },
  {
   "cell_type": "code",
   "execution_count": null,
   "outputs": [],
   "source": [],
   "metadata": {
    "collapsed": false,
    "pycharm": {
     "name": "#%%\n"
    }
   }
  }
 ],
 "metadata": {
  "kernelspec": {
   "name": "pytorch_tutorial",
   "language": "python",
   "display_name": "pytorch_tutorial"
  },
  "language_info": {
   "codemirror_mode": {
    "name": "ipython",
    "version": 2
   },
   "file_extension": ".py",
   "mimetype": "text/x-python",
   "name": "python",
   "nbconvert_exporter": "python",
   "pygments_lexer": "ipython2",
   "version": "2.7.6"
  }
 },
 "nbformat": 4,
 "nbformat_minor": 0
}