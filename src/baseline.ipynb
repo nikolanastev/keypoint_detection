{
 "cells": [
  {
   "cell_type": "code",
   "execution_count": null,
   "outputs": [],
   "source": [
    "import torch\n",
    "import torch.nn as nn\n",
    "from torch.utils.data import Dataset, DataLoader\n",
    "import numpy as np\n",
    "import pandas as pd\n",
    "from PIL import Image\n",
    "import json\n",
    "import os\n",
    "import torchvision\n",
    "import torchvision.transforms as transforms\n",
    "from math import ceil\n",
    "from tqdm import tqdm\n",
    "import torch.nn.functional as F\n",
    "import torch.optim as optim\n",
    "import matplotlib.pyplot as plt"
   ],
   "metadata": {
    "collapsed": false,
    "pycharm": {
     "name": "#%%\n"
    }
   }
  },
  {
   "cell_type": "markdown",
   "source": [
    "## Dataset and Dataloader"
   ],
   "metadata": {
    "collapsed": false,
    "pycharm": {
     "name": "#%% md\n"
    }
   }
  },
  {
   "cell_type": "code",
   "execution_count": null,
   "outputs": [],
   "source": [
    "device = 'cuda' if torch.cuda.is_available() else 'cpu'\n",
    "batch_size = 256\n",
    "epochs = 100\n",
    "lr = 0.001\n",
    "split_size = 0.9\n",
    "\n",
    "path_to_anns = \"D:\\\\Studies\\\\ucenje\\\\keypoint_flickr\\\\data\\\\annotations\\\\all_data.json\"\n",
    "path_to_img = \"D:\\\\Studies\\\\ucenje\\\\keypoint_flickr\\\\data\\\\images\""
   ],
   "metadata": {
    "collapsed": false,
    "pycharm": {
     "name": "#%%\n"
    }
   }
  },
  {
   "cell_type": "code",
   "execution_count": null,
   "outputs": [],
   "source": [
    "class FlickrDataset(Dataset):\n",
    "    def __init__(self, path_to_anns, path_to_imgs, transform=None):\n",
    "        with open(path_to_anns, 'r') as f:\n",
    "            self.anns = json.loads(f.read())\n",
    "        self.image_path = path_to_imgs\n",
    "        self.transform = transform\n",
    "\n",
    "    def __len__(self):\n",
    "        return len(self.anns)\n",
    "\n",
    "    def __getitem__(self, idx):\n",
    "        img_path = os.path.join(self.image_path, self.anns[str(idx)][\"file_name\"])\n",
    "        image = Image.open(img_path).convert(\"RGB\")\n",
    "        orig_width, orig_height = image.size\n",
    "        image.thumbnail((224, 224))\n",
    "        image = np.array(image, dtype=np.float32)\n",
    "        keypoints = np.array(self.anns[str(idx)][\"face_landmarks\"])\n",
    "        keypoints = keypoints * [224 / orig_width, 224 / orig_height]\n",
    "        keypoints = keypoints.flatten()\n",
    "\n",
    "        if self.transform:\n",
    "            image = self.transform(image)\n",
    "\n",
    "        return image, torch.tensor(keypoints)\n",
    "\n",
    "dataset = FlickrDataset(path_to_anns,path_to_img,\n",
    "                        transform=transforms.ToTensor())\n",
    "train_len = ceil(len(dataset) * split_size)\n",
    "val_len = ceil(len(dataset) * (1-split_size))\n",
    "train_dataset, val_dataset = torch.utils.data.random_split(dataset, (train_len, val_len))\n",
    "train_loader = DataLoader(train_dataset, batch_size=batch_size, shuffle=True)\n",
    "val_loader = DataLoader(val_dataset, batch_size=batch_size, shuffle=False)"
   ],
   "metadata": {
    "collapsed": false,
    "pycharm": {
     "name": "#%%\n"
    }
   }
  },
  {
   "cell_type": "markdown",
   "source": [
    "## Create Model"
   ],
   "metadata": {
    "collapsed": false,
    "pycharm": {
     "name": "#%% md\n"
    }
   }
  },
  {
   "cell_type": "code",
   "execution_count": null,
   "outputs": [],
   "source": [
    "class SimpleCNN(nn.Module):\n",
    "    def __init__(self):\n",
    "        super(SimpleCNN, self).__init__()\n",
    "        self.conv = nn.Conv2d(3, 5, 5)\n",
    "        self.pool = nn.MaxPool2d(2,2)\n",
    "        self.norm = nn.BatchNorm2d(5)\n",
    "        self.linear1 = nn.LazyLinear(1000)\n",
    "        self.linear2 = nn.Linear(1000, 136)\n",
    "\n",
    "    def forward(self, x):\n",
    "        x = self.norm(self.pool(F.relu(self.conv(x))))\n",
    "        x = x.reshape(x.shape[0], -1)\n",
    "        x = F.relu(self.linear1(x))\n",
    "        x = self.linear2(x)\n",
    "        return x"
   ],
   "metadata": {
    "collapsed": false,
    "pycharm": {
     "name": "#%%\n"
    }
   }
  },
  {
   "cell_type": "markdown",
   "source": [
    "## Train loop"
   ],
   "metadata": {
    "collapsed": false,
    "pycharm": {
     "name": "#%% md\n"
    }
   }
  },
  {
   "cell_type": "code",
   "execution_count": null,
   "outputs": [],
   "source": [
    "torch.cuda.empty_cache()\n",
    "model = SimpleCNN().to(device)\n",
    "criterion = nn.SmoothL1Loss().to(device)\n",
    "optimizer = optim.Adam(model.parameters(), lr=lr)\n",
    "\n",
    "train_loss = []\n",
    "val_loss = []\n",
    "\n",
    "for epoch in range(epochs):\n",
    "    train_running_loss = 0.0\n",
    "    val_running_loss = 0.0\n",
    "    model.train()\n",
    "    for i, data in tqdm(enumerate(train_loader), total=(len(train_loader))):\n",
    "        image, keypoints = data[0].to(device), data[1].to(device)\n",
    "        preds = model(image)\n",
    "        loss = criterion(preds, keypoints)\n",
    "        loss.backward()\n",
    "        optimizer.step()\n",
    "        optimizer.zero_grad()\n",
    "\n",
    "        train_running_loss += loss.item()\n",
    "    train_loss.append(train_running_loss / (ceil(len(train_dataset) / batch_size)))\n",
    "\n",
    "    model.eval()\n",
    "\n",
    "    with torch.no_grad():\n",
    "        val_running_loss = 0.0\n",
    "        for i, data in tqdm(enumerate(val_loader), total=(len(val_loader))):\n",
    "            image, keypoints = data[0].to(device), data[1].to(device)\n",
    "            preds = model(image)\n",
    "            loss = criterion(preds, keypoints)\n",
    "            val_running_loss += loss.item()\n",
    "        val_loss.append(val_running_loss / ceil(len(val_dataset) / batch_size))\n",
    "    print(f'Epoch: {epoch + 1}')\n",
    "    print(f'Train_loss at epoch {epoch + 1}: {train_loss[-1]}')\n",
    "    print(f'Val_loss at epoch {epoch + 1}: {val_loss[-1]}')"
   ],
   "metadata": {
    "collapsed": false,
    "pycharm": {
     "name": "#%%\n"
    }
   }
  },
  {
   "cell_type": "markdown",
   "source": [
    "## Plot loss"
   ],
   "metadata": {
    "collapsed": false,
    "pycharm": {
     "name": "#%% md\n"
    }
   }
  },
  {
   "cell_type": "code",
   "execution_count": null,
   "outputs": [],
   "source": [
    "plt.figure(figsize=(15,7))\n",
    "plt.plot(train_loss, label=\"train\")\n",
    "plt.plot(val_loss, label=\"val\")\n",
    "plt.xlabel(\"iterations\")\n",
    "plt.ylabel(\"Loss\")\n",
    "plt.legend()\n",
    "plt.show()"
   ],
   "metadata": {
    "collapsed": false,
    "pycharm": {
     "name": "#%%\n"
    }
   }
  },
  {
   "cell_type": "code",
   "execution_count": 2,
   "outputs": [],
   "source": [
    "device = 'cuda' if torch.cuda.is_available() else 'cpu'\n",
    "batch_size = 256\n",
    "epochs = 100\n",
    "lr = 0.001\n",
    "split_size = 0.9\n",
    "\n",
    "path_to_anns = \"D:\\\\Studies\\\\ucenje\\\\keypoint_flickr\\\\data\\\\annotations\\\\all_data.json\"\n",
    "path_to_img = \"D:\\\\Studies\\\\ucenje\\\\keypoint_flickr\\\\data\\\\images\""
   ],
   "metadata": {
    "collapsed": false,
    "pycharm": {
     "name": "#%%\n"
    }
   }
  },
  {
   "cell_type": "code",
   "execution_count": 3,
   "outputs": [],
   "source": [
    "class FlickrDataset(Dataset):\n",
    "    def __init__(self, path_to_anns, path_to_imgs, transform=None):\n",
    "        with open(path_to_anns, 'r') as f:\n",
    "            self.anns = json.loads(f.read())\n",
    "        self.image_path = path_to_imgs\n",
    "        self.transform = transform\n",
    "\n",
    "    def __len__(self):\n",
    "        return len(self.anns)\n",
    "\n",
    "    def __getitem__(self, idx):\n",
    "        img_path = os.path.join(self.image_path, self.anns[str(idx)][\"file_name\"])\n",
    "        image = Image.open(img_path).convert(\"RGB\")\n",
    "        orig_width, orig_height = image.size\n",
    "        image.thumbnail((224, 224))\n",
    "        image = np.array(image, dtype=np.float32)\n",
    "        keypoints = np.array(self.anns[str(idx)][\"face_landmarks\"])\n",
    "        keypoints = keypoints * [224 / orig_width, 224 / orig_height]\n",
    "        keypoints = keypoints.flatten()\n",
    "\n",
    "        if self.transform:\n",
    "            image = self.transform(image)\n",
    "\n",
    "        return image, torch.tensor(keypoints)\n",
    "\n",
    "dataset = FlickrDataset(path_to_anns,path_to_img,\n",
    "                        transform=transforms.ToTensor())\n",
    "train_len = ceil(len(dataset) * split_size)\n",
    "val_len = ceil(len(dataset) * (1-split_size))\n",
    "train_dataset, val_dataset = torch.utils.data.random_split(dataset, (train_len, val_len))\n",
    "train_loader = DataLoader(train_dataset, batch_size=batch_size, shuffle=True)\n",
    "val_loader = DataLoader(val_dataset, batch_size=batch_size, shuffle=False)"
   ],
   "metadata": {
    "collapsed": false,
    "pycharm": {
     "name": "#%%\n"
    }
   }
  },
  {
   "cell_type": "markdown",
   "source": [
    "## Create Model"
   ],
   "metadata": {
    "collapsed": false,
    "pycharm": {
     "name": "#%% md\n"
    }
   }
  },
  {
   "cell_type": "code",
   "execution_count": 4,
   "outputs": [],
   "source": [
    "class SimpleCNN(nn.Module):\n",
    "    def __init__(self):\n",
    "        super(SimpleCNN, self).__init__()\n",
    "        self.conv = nn.Conv2d(3, 5, 5)\n",
    "        self.pool = nn.MaxPool2d(2,2)\n",
    "        self.norm = nn.BatchNorm2d(5)\n",
    "        self.linear1 = nn.LazyLinear(1000)\n",
    "        self.linear2 = nn.Linear(1000, 136)\n",
    "\n",
    "    def forward(self, x):\n",
    "        x = self.norm(self.pool(F.relu(self.conv(x))))\n",
    "        x = x.reshape(x.shape[0], -1)\n",
    "        x = F.relu(self.linear1(x))\n",
    "        x = self.linear2(x)\n",
    "        return x"
   ],
   "metadata": {
    "collapsed": false,
    "pycharm": {
     "name": "#%%\n"
    }
   }
  },
  {
   "cell_type": "markdown",
   "source": [
    "## Train loop"
   ],
   "metadata": {
    "collapsed": false,
    "pycharm": {
     "name": "#%% md\n"
    }
   }
  },
  {
   "cell_type": "code",
   "execution_count": 5,
   "outputs": [
    {
     "name": "stderr",
     "output_type": "stream",
     "text": [
      "C:\\Users\\user\\anaconda3\\envs\\pytorch_tutorial\\lib\\site-packages\\torch\\nn\\modules\\lazy.py:178: UserWarning: Lazy modules are a new feature under heavy development so changes to the API or functionality can happen at any moment.\n",
      "  warnings.warn('Lazy modules are a new feature under heavy development '\n",
      "100%|██████████| 18/18 [00:44<00:00,  2.46s/it]\n",
      "100%|██████████| 2/2 [00:04<00:00,  2.21s/it]\n"
     ]
    },
    {
     "name": "stdout",
     "output_type": "stream",
     "text": [
      "Epoch: 1\n",
      "Train_loss at epoch 1: 55.62786039033586\n",
      "Val_loss at epoch 1: 26.268909621480887\n"
     ]
    },
    {
     "name": "stderr",
     "output_type": "stream",
     "text": [
      "100%|██████████| 18/18 [00:41<00:00,  2.31s/it]\n",
      "100%|██████████| 2/2 [00:04<00:00,  2.26s/it]\n"
     ]
    },
    {
     "name": "stdout",
     "output_type": "stream",
     "text": [
      "Epoch: 2\n",
      "Train_loss at epoch 2: 20.487881717766342\n",
      "Val_loss at epoch 2: 17.115842729881706\n"
     ]
    },
    {
     "name": "stderr",
     "output_type": "stream",
     "text": [
      "100%|██████████| 18/18 [00:41<00:00,  2.32s/it]\n",
      "100%|██████████| 2/2 [00:04<00:00,  2.28s/it]\n"
     ]
    },
    {
     "name": "stdout",
     "output_type": "stream",
     "text": [
      "Epoch: 3\n",
      "Train_loss at epoch 3: 12.959861190255772\n",
      "Val_loss at epoch 3: 16.25914423501596\n"
     ]
    },
    {
     "name": "stderr",
     "output_type": "stream",
     "text": [
      "100%|██████████| 18/18 [00:41<00:00,  2.31s/it]\n",
      "100%|██████████| 2/2 [00:04<00:00,  2.29s/it]\n"
     ]
    },
    {
     "name": "stdout",
     "output_type": "stream",
     "text": [
      "Epoch: 4\n",
      "Train_loss at epoch 4: 9.217484818411785\n",
      "Val_loss at epoch 4: 13.102586612917747\n"
     ]
    },
    {
     "name": "stderr",
     "output_type": "stream",
     "text": [
      "100%|██████████| 18/18 [00:41<00:00,  2.31s/it]\n",
      "100%|██████████| 2/2 [00:04<00:00,  2.29s/it]\n"
     ]
    },
    {
     "name": "stdout",
     "output_type": "stream",
     "text": [
      "Epoch: 5\n",
      "Train_loss at epoch 5: 8.123848803408354\n",
      "Val_loss at epoch 5: 13.219325098217201\n"
     ]
    },
    {
     "name": "stderr",
     "output_type": "stream",
     "text": [
      "100%|██████████| 18/18 [00:41<00:00,  2.31s/it]\n",
      "100%|██████████| 2/2 [00:04<00:00,  2.28s/it]\n"
     ]
    },
    {
     "name": "stdout",
     "output_type": "stream",
     "text": [
      "Epoch: 6\n",
      "Train_loss at epoch 6: 7.090980354970167\n",
      "Val_loss at epoch 6: 12.476384138118124\n"
     ]
    },
    {
     "name": "stderr",
     "output_type": "stream",
     "text": [
      "100%|██████████| 18/18 [00:41<00:00,  2.32s/it]\n",
      "100%|██████████| 2/2 [00:04<00:00,  2.25s/it]\n"
     ]
    },
    {
     "name": "stdout",
     "output_type": "stream",
     "text": [
      "Epoch: 7\n",
      "Train_loss at epoch 7: 5.905793760878492\n",
      "Val_loss at epoch 7: 12.519150542930369\n"
     ]
    },
    {
     "name": "stderr",
     "output_type": "stream",
     "text": [
      "100%|██████████| 18/18 [00:41<00:00,  2.33s/it]\n",
      "100%|██████████| 2/2 [00:04<00:00,  2.24s/it]\n"
     ]
    },
    {
     "name": "stdout",
     "output_type": "stream",
     "text": [
      "Epoch: 8\n",
      "Train_loss at epoch 8: 7.581814599671087\n",
      "Val_loss at epoch 8: 11.59842446701573\n"
     ]
    },
    {
     "name": "stderr",
     "output_type": "stream",
     "text": [
      "100%|██████████| 18/18 [00:41<00:00,  2.32s/it]\n",
      "100%|██████████| 2/2 [00:04<00:00,  2.21s/it]\n"
     ]
    },
    {
     "name": "stdout",
     "output_type": "stream",
     "text": [
      "Epoch: 9\n",
      "Train_loss at epoch 9: 7.295066601167608\n",
      "Val_loss at epoch 9: 12.418122032939209\n"
     ]
    },
    {
     "name": "stderr",
     "output_type": "stream",
     "text": [
      "100%|██████████| 18/18 [00:41<00:00,  2.31s/it]\n",
      "100%|██████████| 2/2 [00:04<00:00,  2.21s/it]\n"
     ]
    },
    {
     "name": "stdout",
     "output_type": "stream",
     "text": [
      "Epoch: 10\n",
      "Train_loss at epoch 10: 6.193273543802635\n",
      "Val_loss at epoch 10: 11.490764537647333\n"
     ]
    },
    {
     "name": "stderr",
     "output_type": "stream",
     "text": [
      "100%|██████████| 18/18 [00:41<00:00,  2.31s/it]\n",
      "100%|██████████| 2/2 [00:04<00:00,  2.26s/it]\n"
     ]
    },
    {
     "name": "stdout",
     "output_type": "stream",
     "text": [
      "Epoch: 11\n",
      "Train_loss at epoch 11: 6.366237377445215\n",
      "Val_loss at epoch 11: 11.592355171239193\n"
     ]
    },
    {
     "name": "stderr",
     "output_type": "stream",
     "text": [
      "100%|██████████| 18/18 [00:41<00:00,  2.31s/it]\n",
      "100%|██████████| 2/2 [00:04<00:00,  2.25s/it]\n"
     ]
    },
    {
     "name": "stdout",
     "output_type": "stream",
     "text": [
      "Epoch: 12\n",
      "Train_loss at epoch 12: 5.70735628555418\n",
      "Val_loss at epoch 12: 14.352360184342672\n"
     ]
    },
    {
     "name": "stderr",
     "output_type": "stream",
     "text": [
      "100%|██████████| 18/18 [00:41<00:00,  2.30s/it]\n",
      "100%|██████████| 2/2 [00:04<00:00,  2.31s/it]\n"
     ]
    },
    {
     "name": "stdout",
     "output_type": "stream",
     "text": [
      "Epoch: 13\n",
      "Train_loss at epoch 13: 6.946051207222586\n",
      "Val_loss at epoch 13: 15.486728544857002\n"
     ]
    },
    {
     "name": "stderr",
     "output_type": "stream",
     "text": [
      "100%|██████████| 18/18 [00:41<00:00,  2.32s/it]\n",
      "100%|██████████| 2/2 [00:04<00:00,  2.30s/it]\n"
     ]
    },
    {
     "name": "stdout",
     "output_type": "stream",
     "text": [
      "Epoch: 14\n",
      "Train_loss at epoch 14: 6.846242323490074\n",
      "Val_loss at epoch 14: 12.335694124145181\n"
     ]
    },
    {
     "name": "stderr",
     "output_type": "stream",
     "text": [
      "100%|██████████| 18/18 [00:41<00:00,  2.31s/it]\n",
      "100%|██████████| 2/2 [00:04<00:00,  2.29s/it]\n"
     ]
    },
    {
     "name": "stdout",
     "output_type": "stream",
     "text": [
      "Epoch: 15\n",
      "Train_loss at epoch 15: 5.125648740166992\n",
      "Val_loss at epoch 15: 11.312260996556747\n"
     ]
    },
    {
     "name": "stderr",
     "output_type": "stream",
     "text": [
      "100%|██████████| 18/18 [00:41<00:00,  2.31s/it]\n",
      "100%|██████████| 2/2 [00:04<00:00,  2.27s/it]\n"
     ]
    },
    {
     "name": "stdout",
     "output_type": "stream",
     "text": [
      "Epoch: 16\n",
      "Train_loss at epoch 16: 5.878967434160375\n",
      "Val_loss at epoch 16: 12.208467785010837\n"
     ]
    },
    {
     "name": "stderr",
     "output_type": "stream",
     "text": [
      "100%|██████████| 18/18 [00:41<00:00,  2.32s/it]\n",
      "100%|██████████| 2/2 [00:04<00:00,  2.24s/it]\n"
     ]
    },
    {
     "name": "stdout",
     "output_type": "stream",
     "text": [
      "Epoch: 17\n",
      "Train_loss at epoch 17: 4.560154168586239\n",
      "Val_loss at epoch 17: 11.716869983084644\n"
     ]
    },
    {
     "name": "stderr",
     "output_type": "stream",
     "text": [
      "100%|██████████| 18/18 [00:41<00:00,  2.32s/it]\n",
      "100%|██████████| 2/2 [00:04<00:00,  2.21s/it]\n"
     ]
    },
    {
     "name": "stdout",
     "output_type": "stream",
     "text": [
      "Epoch: 18\n",
      "Train_loss at epoch 18: 3.887069186930216\n",
      "Val_loss at epoch 18: 11.223951578009249\n"
     ]
    },
    {
     "name": "stderr",
     "output_type": "stream",
     "text": [
      "100%|██████████| 18/18 [00:41<00:00,  2.32s/it]\n",
      "100%|██████████| 2/2 [00:04<00:00,  2.24s/it]\n"
     ]
    },
    {
     "name": "stdout",
     "output_type": "stream",
     "text": [
      "Epoch: 19\n",
      "Train_loss at epoch 19: 4.891683813376832\n",
      "Val_loss at epoch 19: 11.54269482492617\n"
     ]
    },
    {
     "name": "stderr",
     "output_type": "stream",
     "text": [
      "100%|██████████| 18/18 [00:41<00:00,  2.32s/it]\n",
      "100%|██████████| 2/2 [00:04<00:00,  2.26s/it]\n"
     ]
    },
    {
     "name": "stdout",
     "output_type": "stream",
     "text": [
      "Epoch: 20\n",
      "Train_loss at epoch 20: 4.432668769545454\n",
      "Val_loss at epoch 20: 11.21561100935335\n"
     ]
    },
    {
     "name": "stderr",
     "output_type": "stream",
     "text": [
      "100%|██████████| 18/18 [00:41<00:00,  2.32s/it]\n",
      "100%|██████████| 2/2 [00:04<00:00,  2.25s/it]\n"
     ]
    },
    {
     "name": "stdout",
     "output_type": "stream",
     "text": [
      "Epoch: 21\n",
      "Train_loss at epoch 21: 5.12172457395733\n",
      "Val_loss at epoch 21: 10.851246075275238\n"
     ]
    },
    {
     "name": "stderr",
     "output_type": "stream",
     "text": [
      "100%|██████████| 18/18 [00:41<00:00,  2.32s/it]\n",
      "100%|██████████| 2/2 [00:04<00:00,  2.27s/it]\n"
     ]
    },
    {
     "name": "stdout",
     "output_type": "stream",
     "text": [
      "Epoch: 22\n",
      "Train_loss at epoch 22: 3.765067359299143\n",
      "Val_loss at epoch 22: 10.830433051445432\n"
     ]
    },
    {
     "name": "stderr",
     "output_type": "stream",
     "text": [
      "100%|██████████| 18/18 [00:41<00:00,  2.33s/it]\n",
      "100%|██████████| 2/2 [00:04<00:00,  2.28s/it]\n"
     ]
    },
    {
     "name": "stdout",
     "output_type": "stream",
     "text": [
      "Epoch: 23\n",
      "Train_loss at epoch 23: 3.9515592749744\n",
      "Val_loss at epoch 23: 11.226328412335487\n"
     ]
    },
    {
     "name": "stderr",
     "output_type": "stream",
     "text": [
      "100%|██████████| 18/18 [00:41<00:00,  2.32s/it]\n",
      "100%|██████████| 2/2 [00:04<00:00,  2.31s/it]\n"
     ]
    },
    {
     "name": "stdout",
     "output_type": "stream",
     "text": [
      "Epoch: 24\n",
      "Train_loss at epoch 24: 3.922303934431093\n",
      "Val_loss at epoch 24: 12.654264376777085\n"
     ]
    },
    {
     "name": "stderr",
     "output_type": "stream",
     "text": [
      "100%|██████████| 18/18 [00:41<00:00,  2.31s/it]\n",
      "100%|██████████| 2/2 [00:04<00:00,  2.28s/it]\n"
     ]
    },
    {
     "name": "stdout",
     "output_type": "stream",
     "text": [
      "Epoch: 25\n",
      "Train_loss at epoch 25: 3.806744428710787\n",
      "Val_loss at epoch 25: 10.922924736470065\n"
     ]
    },
    {
     "name": "stderr",
     "output_type": "stream",
     "text": [
      "100%|██████████| 18/18 [00:41<00:00,  2.31s/it]\n",
      "100%|██████████| 2/2 [00:04<00:00,  2.26s/it]\n"
     ]
    },
    {
     "name": "stdout",
     "output_type": "stream",
     "text": [
      "Epoch: 26\n",
      "Train_loss at epoch 26: 3.30487116251385\n",
      "Val_loss at epoch 26: 10.677236530296659\n"
     ]
    },
    {
     "name": "stderr",
     "output_type": "stream",
     "text": [
      "100%|██████████| 18/18 [00:41<00:00,  2.32s/it]\n",
      "100%|██████████| 2/2 [00:04<00:00,  2.26s/it]\n"
     ]
    },
    {
     "name": "stdout",
     "output_type": "stream",
     "text": [
      "Epoch: 27\n",
      "Train_loss at epoch 27: 3.3859202978664866\n",
      "Val_loss at epoch 27: 10.720543389785433\n"
     ]
    },
    {
     "name": "stderr",
     "output_type": "stream",
     "text": [
      "100%|██████████| 18/18 [00:41<00:00,  2.31s/it]\n",
      "100%|██████████| 2/2 [00:04<00:00,  2.20s/it]\n"
     ]
    },
    {
     "name": "stdout",
     "output_type": "stream",
     "text": [
      "Epoch: 28\n",
      "Train_loss at epoch 28: 3.569913624940558\n",
      "Val_loss at epoch 28: 11.164704062581588\n"
     ]
    },
    {
     "name": "stderr",
     "output_type": "stream",
     "text": [
      "100%|██████████| 18/18 [00:41<00:00,  2.30s/it]\n",
      "100%|██████████| 2/2 [00:04<00:00,  2.21s/it]\n"
     ]
    },
    {
     "name": "stdout",
     "output_type": "stream",
     "text": [
      "Epoch: 29\n",
      "Train_loss at epoch 29: 3.283311575410799\n",
      "Val_loss at epoch 29: 10.38000170490707\n"
     ]
    },
    {
     "name": "stderr",
     "output_type": "stream",
     "text": [
      "100%|██████████| 18/18 [00:41<00:00,  2.30s/it]\n",
      "100%|██████████| 2/2 [00:04<00:00,  2.26s/it]\n"
     ]
    },
    {
     "name": "stdout",
     "output_type": "stream",
     "text": [
      "Epoch: 30\n",
      "Train_loss at epoch 30: 3.3550254172813943\n",
      "Val_loss at epoch 30: 10.452549073921436\n"
     ]
    },
    {
     "name": "stderr",
     "output_type": "stream",
     "text": [
      "100%|██████████| 18/18 [00:42<00:00,  2.34s/it]\n",
      "100%|██████████| 2/2 [00:04<00:00,  2.27s/it]\n"
     ]
    },
    {
     "name": "stdout",
     "output_type": "stream",
     "text": [
      "Epoch: 31\n",
      "Train_loss at epoch 31: 3.4362542041937996\n",
      "Val_loss at epoch 31: 11.663056956890296\n"
     ]
    },
    {
     "name": "stderr",
     "output_type": "stream",
     "text": [
      "100%|██████████| 18/18 [00:41<00:00,  2.31s/it]\n",
      "100%|██████████| 2/2 [00:04<00:00,  2.31s/it]\n"
     ]
    },
    {
     "name": "stdout",
     "output_type": "stream",
     "text": [
      "Epoch: 32\n",
      "Train_loss at epoch 32: 3.674055812257333\n",
      "Val_loss at epoch 32: 11.671120386732577\n"
     ]
    },
    {
     "name": "stderr",
     "output_type": "stream",
     "text": [
      "100%|██████████| 18/18 [00:41<00:00,  2.31s/it]\n",
      "100%|██████████| 2/2 [00:04<00:00,  2.32s/it]\n"
     ]
    },
    {
     "name": "stdout",
     "output_type": "stream",
     "text": [
      "Epoch: 33\n",
      "Train_loss at epoch 33: 4.2330205513369314\n",
      "Val_loss at epoch 33: 11.209330931208612\n"
     ]
    },
    {
     "name": "stderr",
     "output_type": "stream",
     "text": [
      "100%|██████████| 18/18 [00:41<00:00,  2.33s/it]\n",
      "100%|██████████| 2/2 [00:04<00:00,  2.28s/it]\n"
     ]
    },
    {
     "name": "stdout",
     "output_type": "stream",
     "text": [
      "Epoch: 34\n",
      "Train_loss at epoch 34: 3.7678260941241004\n",
      "Val_loss at epoch 34: 11.037005238347884\n"
     ]
    },
    {
     "name": "stderr",
     "output_type": "stream",
     "text": [
      "100%|██████████| 18/18 [00:41<00:00,  2.32s/it]\n",
      "100%|██████████| 2/2 [00:04<00:00,  2.29s/it]\n"
     ]
    },
    {
     "name": "stdout",
     "output_type": "stream",
     "text": [
      "Epoch: 35\n",
      "Train_loss at epoch 35: 4.180999393211806\n",
      "Val_loss at epoch 35: 10.614688785140725\n"
     ]
    },
    {
     "name": "stderr",
     "output_type": "stream",
     "text": [
      "100%|██████████| 18/18 [00:41<00:00,  2.32s/it]\n",
      "100%|██████████| 2/2 [00:04<00:00,  2.29s/it]\n"
     ]
    },
    {
     "name": "stdout",
     "output_type": "stream",
     "text": [
      "Epoch: 36\n",
      "Train_loss at epoch 36: 3.5730519971030805\n",
      "Val_loss at epoch 36: 11.266220785595717\n"
     ]
    },
    {
     "name": "stderr",
     "output_type": "stream",
     "text": [
      "100%|██████████| 18/18 [00:41<00:00,  2.32s/it]\n",
      "100%|██████████| 2/2 [00:04<00:00,  2.25s/it]\n"
     ]
    },
    {
     "name": "stdout",
     "output_type": "stream",
     "text": [
      "Epoch: 37\n",
      "Train_loss at epoch 37: 5.3270087182041035\n",
      "Val_loss at epoch 37: 11.727573675969628\n"
     ]
    },
    {
     "name": "stderr",
     "output_type": "stream",
     "text": [
      "100%|██████████| 18/18 [00:41<00:00,  2.31s/it]\n",
      "100%|██████████| 2/2 [00:04<00:00,  2.24s/it]\n"
     ]
    },
    {
     "name": "stdout",
     "output_type": "stream",
     "text": [
      "Epoch: 38\n",
      "Train_loss at epoch 38: 4.2525887192778855\n",
      "Val_loss at epoch 38: 11.727383362181268\n"
     ]
    },
    {
     "name": "stderr",
     "output_type": "stream",
     "text": [
      "100%|██████████| 18/18 [00:42<00:00,  2.34s/it]\n",
      "100%|██████████| 2/2 [00:04<00:00,  2.18s/it]\n"
     ]
    },
    {
     "name": "stdout",
     "output_type": "stream",
     "text": [
      "Epoch: 39\n",
      "Train_loss at epoch 39: 5.486981126387641\n",
      "Val_loss at epoch 39: 10.841806956656534\n"
     ]
    },
    {
     "name": "stderr",
     "output_type": "stream",
     "text": [
      "100%|██████████| 18/18 [00:41<00:00,  2.32s/it]\n",
      "100%|██████████| 2/2 [00:04<00:00,  2.23s/it]\n"
     ]
    },
    {
     "name": "stdout",
     "output_type": "stream",
     "text": [
      "Epoch: 40\n",
      "Train_loss at epoch 40: 3.2326533345408848\n",
      "Val_loss at epoch 40: 10.635726403218495\n"
     ]
    },
    {
     "name": "stderr",
     "output_type": "stream",
     "text": [
      "100%|██████████| 18/18 [00:41<00:00,  2.32s/it]\n",
      "100%|██████████| 2/2 [00:04<00:00,  2.24s/it]\n"
     ]
    },
    {
     "name": "stdout",
     "output_type": "stream",
     "text": [
      "Epoch: 41\n",
      "Train_loss at epoch 41: 2.9353001380982713\n",
      "Val_loss at epoch 41: 11.176048202787909\n"
     ]
    },
    {
     "name": "stderr",
     "output_type": "stream",
     "text": [
      "100%|██████████| 18/18 [00:41<00:00,  2.32s/it]\n",
      "100%|██████████| 2/2 [00:04<00:00,  2.27s/it]\n"
     ]
    },
    {
     "name": "stdout",
     "output_type": "stream",
     "text": [
      "Epoch: 42\n",
      "Train_loss at epoch 42: 5.071648900140357\n",
      "Val_loss at epoch 42: 14.641949461846\n"
     ]
    },
    {
     "name": "stderr",
     "output_type": "stream",
     "text": [
      "100%|██████████| 18/18 [00:41<00:00,  2.31s/it]\n",
      "100%|██████████| 2/2 [00:04<00:00,  2.31s/it]\n"
     ]
    },
    {
     "name": "stdout",
     "output_type": "stream",
     "text": [
      "Epoch: 43\n",
      "Train_loss at epoch 43: 5.978978375480355\n",
      "Val_loss at epoch 43: 11.59948473081562\n"
     ]
    },
    {
     "name": "stderr",
     "output_type": "stream",
     "text": [
      "100%|██████████| 18/18 [00:41<00:00,  2.32s/it]\n",
      "100%|██████████| 2/2 [00:04<00:00,  2.32s/it]\n"
     ]
    },
    {
     "name": "stdout",
     "output_type": "stream",
     "text": [
      "Epoch: 44\n",
      "Train_loss at epoch 44: 5.12522469947431\n",
      "Val_loss at epoch 44: 10.513234582587598\n"
     ]
    },
    {
     "name": "stderr",
     "output_type": "stream",
     "text": [
      "100%|██████████| 18/18 [00:41<00:00,  2.32s/it]\n",
      "100%|██████████| 2/2 [00:04<00:00,  2.27s/it]\n"
     ]
    },
    {
     "name": "stdout",
     "output_type": "stream",
     "text": [
      "Epoch: 45\n",
      "Train_loss at epoch 45: 3.060459554863264\n",
      "Val_loss at epoch 45: 10.757960832408452\n"
     ]
    },
    {
     "name": "stderr",
     "output_type": "stream",
     "text": [
      "100%|██████████| 18/18 [00:41<00:00,  2.31s/it]\n",
      "100%|██████████| 2/2 [00:04<00:00,  2.26s/it]\n"
     ]
    },
    {
     "name": "stdout",
     "output_type": "stream",
     "text": [
      "Epoch: 46\n",
      "Train_loss at epoch 46: 3.1684816341095883\n",
      "Val_loss at epoch 46: 10.51640882197742\n"
     ]
    },
    {
     "name": "stderr",
     "output_type": "stream",
     "text": [
      "100%|██████████| 18/18 [00:41<00:00,  2.32s/it]\n",
      "100%|██████████| 2/2 [00:04<00:00,  2.25s/it]\n"
     ]
    },
    {
     "name": "stdout",
     "output_type": "stream",
     "text": [
      "Epoch: 47\n",
      "Train_loss at epoch 47: 3.364709921462566\n",
      "Val_loss at epoch 47: 11.119424857051753\n"
     ]
    },
    {
     "name": "stderr",
     "output_type": "stream",
     "text": [
      "100%|██████████| 18/18 [00:41<00:00,  2.33s/it]\n",
      "100%|██████████| 2/2 [00:04<00:00,  2.23s/it]\n"
     ]
    },
    {
     "name": "stdout",
     "output_type": "stream",
     "text": [
      "Epoch: 48\n",
      "Train_loss at epoch 48: 3.3066746640246296\n",
      "Val_loss at epoch 48: 10.50366653606116\n"
     ]
    },
    {
     "name": "stderr",
     "output_type": "stream",
     "text": [
      "100%|██████████| 18/18 [00:41<00:00,  2.32s/it]\n",
      "100%|██████████| 2/2 [00:04<00:00,  2.28s/it]\n"
     ]
    },
    {
     "name": "stdout",
     "output_type": "stream",
     "text": [
      "Epoch: 49\n",
      "Train_loss at epoch 49: 2.715326012544046\n",
      "Val_loss at epoch 49: 10.71763603236661\n"
     ]
    },
    {
     "name": "stderr",
     "output_type": "stream",
     "text": [
      "100%|██████████| 18/18 [00:41<00:00,  2.32s/it]\n",
      "100%|██████████| 2/2 [00:04<00:00,  2.26s/it]\n"
     ]
    },
    {
     "name": "stdout",
     "output_type": "stream",
     "text": [
      "Epoch: 50\n",
      "Train_loss at epoch 50: 3.4460613095803696\n",
      "Val_loss at epoch 50: 10.460290868490734\n"
     ]
    },
    {
     "name": "stderr",
     "output_type": "stream",
     "text": [
      "100%|██████████| 18/18 [00:41<00:00,  2.32s/it]\n",
      "100%|██████████| 2/2 [00:04<00:00,  2.26s/it]\n"
     ]
    },
    {
     "name": "stdout",
     "output_type": "stream",
     "text": [
      "Epoch: 51\n",
      "Train_loss at epoch 51: 3.376296605000002\n",
      "Val_loss at epoch 51: 10.805293075325661\n"
     ]
    },
    {
     "name": "stderr",
     "output_type": "stream",
     "text": [
      "100%|██████████| 18/18 [00:41<00:00,  2.32s/it]\n",
      "100%|██████████| 2/2 [00:04<00:00,  2.32s/it]\n"
     ]
    },
    {
     "name": "stdout",
     "output_type": "stream",
     "text": [
      "Epoch: 52\n",
      "Train_loss at epoch 52: 3.493231349101947\n",
      "Val_loss at epoch 52: 12.91424517364204\n"
     ]
    },
    {
     "name": "stderr",
     "output_type": "stream",
     "text": [
      "100%|██████████| 18/18 [00:41<00:00,  2.31s/it]\n",
      "100%|██████████| 2/2 [00:04<00:00,  2.32s/it]\n"
     ]
    },
    {
     "name": "stdout",
     "output_type": "stream",
     "text": [
      "Epoch: 53\n",
      "Train_loss at epoch 53: 3.263311381147175\n",
      "Val_loss at epoch 53: 10.419093517982386\n"
     ]
    },
    {
     "name": "stderr",
     "output_type": "stream",
     "text": [
      "100%|██████████| 18/18 [00:41<00:00,  2.32s/it]\n",
      "100%|██████████| 2/2 [00:04<00:00,  2.29s/it]\n"
     ]
    },
    {
     "name": "stdout",
     "output_type": "stream",
     "text": [
      "Epoch: 54\n",
      "Train_loss at epoch 54: 3.0533873983307287\n",
      "Val_loss at epoch 54: 10.583605098580017\n"
     ]
    },
    {
     "name": "stderr",
     "output_type": "stream",
     "text": [
      "100%|██████████| 18/18 [00:41<00:00,  2.31s/it]\n",
      "100%|██████████| 2/2 [00:04<00:00,  2.27s/it]\n"
     ]
    },
    {
     "name": "stdout",
     "output_type": "stream",
     "text": [
      "Epoch: 55\n",
      "Train_loss at epoch 55: 4.235000369781684\n",
      "Val_loss at epoch 55: 12.87835320899467\n"
     ]
    },
    {
     "name": "stderr",
     "output_type": "stream",
     "text": [
      "100%|██████████| 18/18 [00:41<00:00,  2.32s/it]\n",
      "100%|██████████| 2/2 [00:04<00:00,  2.26s/it]\n"
     ]
    },
    {
     "name": "stdout",
     "output_type": "stream",
     "text": [
      "Epoch: 56\n",
      "Train_loss at epoch 56: 3.76953126827561\n",
      "Val_loss at epoch 56: 10.850876730521975\n"
     ]
    },
    {
     "name": "stderr",
     "output_type": "stream",
     "text": [
      "100%|██████████| 18/18 [00:41<00:00,  2.32s/it]\n",
      "100%|██████████| 2/2 [00:04<00:00,  2.23s/it]\n"
     ]
    },
    {
     "name": "stdout",
     "output_type": "stream",
     "text": [
      "Epoch: 57\n",
      "Train_loss at epoch 57: 3.542720803185897\n",
      "Val_loss at epoch 57: 10.578088854561408\n"
     ]
    },
    {
     "name": "stderr",
     "output_type": "stream",
     "text": [
      "100%|██████████| 18/18 [00:41<00:00,  2.32s/it]\n",
      "100%|██████████| 2/2 [00:04<00:00,  2.22s/it]\n"
     ]
    },
    {
     "name": "stdout",
     "output_type": "stream",
     "text": [
      "Epoch: 58\n",
      "Train_loss at epoch 58: 3.280313099702639\n",
      "Val_loss at epoch 58: 10.05957440582551\n"
     ]
    },
    {
     "name": "stderr",
     "output_type": "stream",
     "text": [
      "100%|██████████| 18/18 [00:41<00:00,  2.32s/it]\n",
      "100%|██████████| 2/2 [00:04<00:00,  2.22s/it]\n"
     ]
    },
    {
     "name": "stdout",
     "output_type": "stream",
     "text": [
      "Epoch: 59\n",
      "Train_loss at epoch 59: 2.5791507876268587\n",
      "Val_loss at epoch 59: 10.764105055140254\n"
     ]
    },
    {
     "name": "stderr",
     "output_type": "stream",
     "text": [
      "100%|██████████| 18/18 [00:41<00:00,  2.32s/it]\n",
      "100%|██████████| 2/2 [00:04<00:00,  2.26s/it]\n"
     ]
    },
    {
     "name": "stdout",
     "output_type": "stream",
     "text": [
      "Epoch: 60\n",
      "Train_loss at epoch 60: 2.323872272290609\n",
      "Val_loss at epoch 60: 10.739455406717518\n"
     ]
    },
    {
     "name": "stderr",
     "output_type": "stream",
     "text": [
      "100%|██████████| 18/18 [00:41<00:00,  2.32s/it]\n",
      "100%|██████████| 2/2 [00:04<00:00,  2.29s/it]\n"
     ]
    },
    {
     "name": "stdout",
     "output_type": "stream",
     "text": [
      "Epoch: 61\n",
      "Train_loss at epoch 61: 2.930551122769086\n",
      "Val_loss at epoch 61: 10.70228578762406\n"
     ]
    },
    {
     "name": "stderr",
     "output_type": "stream",
     "text": [
      "100%|██████████| 18/18 [00:41<00:00,  2.32s/it]\n",
      "100%|██████████| 2/2 [00:04<00:00,  2.26s/it]\n"
     ]
    },
    {
     "name": "stdout",
     "output_type": "stream",
     "text": [
      "Epoch: 62\n",
      "Train_loss at epoch 62: 4.779504752773922\n",
      "Val_loss at epoch 62: 10.72594320990506\n"
     ]
    },
    {
     "name": "stderr",
     "output_type": "stream",
     "text": [
      "100%|██████████| 18/18 [00:41<00:00,  2.32s/it]\n",
      "100%|██████████| 2/2 [00:04<00:00,  2.30s/it]\n"
     ]
    },
    {
     "name": "stdout",
     "output_type": "stream",
     "text": [
      "Epoch: 63\n",
      "Train_loss at epoch 63: 2.7501364990933066\n",
      "Val_loss at epoch 63: 10.336608763438093\n"
     ]
    },
    {
     "name": "stderr",
     "output_type": "stream",
     "text": [
      "100%|██████████| 18/18 [00:41<00:00,  2.31s/it]\n",
      "100%|██████████| 2/2 [00:04<00:00,  2.30s/it]\n"
     ]
    },
    {
     "name": "stdout",
     "output_type": "stream",
     "text": [
      "Epoch: 64\n",
      "Train_loss at epoch 64: 3.0252014436917296\n",
      "Val_loss at epoch 64: 10.654369228856094\n"
     ]
    },
    {
     "name": "stderr",
     "output_type": "stream",
     "text": [
      "100%|██████████| 18/18 [00:41<00:00,  2.32s/it]\n",
      "100%|██████████| 2/2 [00:04<00:00,  2.29s/it]\n"
     ]
    },
    {
     "name": "stdout",
     "output_type": "stream",
     "text": [
      "Epoch: 65\n",
      "Train_loss at epoch 65: 2.7097284270226165\n",
      "Val_loss at epoch 65: 10.253748314169298\n"
     ]
    },
    {
     "name": "stderr",
     "output_type": "stream",
     "text": [
      "100%|██████████| 18/18 [00:41<00:00,  2.31s/it]\n",
      "100%|██████████| 2/2 [00:04<00:00,  2.27s/it]\n"
     ]
    },
    {
     "name": "stdout",
     "output_type": "stream",
     "text": [
      "Epoch: 66\n",
      "Train_loss at epoch 66: 2.2936555413171944\n",
      "Val_loss at epoch 66: 10.389250741977508\n"
     ]
    },
    {
     "name": "stderr",
     "output_type": "stream",
     "text": [
      "100%|██████████| 18/18 [00:41<00:00,  2.32s/it]\n",
      "100%|██████████| 2/2 [00:04<00:00,  2.25s/it]\n"
     ]
    },
    {
     "name": "stdout",
     "output_type": "stream",
     "text": [
      "Epoch: 67\n",
      "Train_loss at epoch 67: 2.8503479442041146\n",
      "Val_loss at epoch 67: 10.615706782714593\n"
     ]
    },
    {
     "name": "stderr",
     "output_type": "stream",
     "text": [
      "100%|██████████| 18/18 [00:41<00:00,  2.32s/it]\n",
      "100%|██████████| 2/2 [00:04<00:00,  2.22s/it]\n"
     ]
    },
    {
     "name": "stdout",
     "output_type": "stream",
     "text": [
      "Epoch: 68\n",
      "Train_loss at epoch 68: 2.5519983458853392\n",
      "Val_loss at epoch 68: 10.814999053613715\n"
     ]
    },
    {
     "name": "stderr",
     "output_type": "stream",
     "text": [
      "100%|██████████| 18/18 [00:41<00:00,  2.33s/it]\n",
      "100%|██████████| 2/2 [00:04<00:00,  2.26s/it]\n"
     ]
    },
    {
     "name": "stdout",
     "output_type": "stream",
     "text": [
      "Epoch: 69\n",
      "Train_loss at epoch 69: 2.4343942295121694\n",
      "Val_loss at epoch 69: 10.202574873082009\n"
     ]
    },
    {
     "name": "stderr",
     "output_type": "stream",
     "text": [
      "100%|██████████| 18/18 [00:41<00:00,  2.31s/it]\n",
      "100%|██████████| 2/2 [00:04<00:00,  2.24s/it]\n"
     ]
    },
    {
     "name": "stdout",
     "output_type": "stream",
     "text": [
      "Epoch: 70\n",
      "Train_loss at epoch 70: 2.659314494391341\n",
      "Val_loss at epoch 70: 10.361974757085537\n"
     ]
    },
    {
     "name": "stderr",
     "output_type": "stream",
     "text": [
      "100%|██████████| 18/18 [00:41<00:00,  2.32s/it]\n",
      "100%|██████████| 2/2 [00:04<00:00,  2.31s/it]\n"
     ]
    },
    {
     "name": "stdout",
     "output_type": "stream",
     "text": [
      "Epoch: 71\n",
      "Train_loss at epoch 71: 2.412363780539181\n",
      "Val_loss at epoch 71: 10.880957137834702\n"
     ]
    },
    {
     "name": "stderr",
     "output_type": "stream",
     "text": [
      "100%|██████████| 18/18 [00:41<00:00,  2.33s/it]\n",
      "100%|██████████| 2/2 [00:04<00:00,  2.31s/it]\n"
     ]
    },
    {
     "name": "stdout",
     "output_type": "stream",
     "text": [
      "Epoch: 72\n",
      "Train_loss at epoch 72: 3.052736974794987\n",
      "Val_loss at epoch 72: 10.16136412522344\n"
     ]
    },
    {
     "name": "stderr",
     "output_type": "stream",
     "text": [
      "100%|██████████| 18/18 [00:41<00:00,  2.32s/it]\n",
      "100%|██████████| 2/2 [00:04<00:00,  2.32s/it]\n"
     ]
    },
    {
     "name": "stdout",
     "output_type": "stream",
     "text": [
      "Epoch: 73\n",
      "Train_loss at epoch 73: 2.9237183411456527\n",
      "Val_loss at epoch 73: 9.9621710645831\n"
     ]
    },
    {
     "name": "stderr",
     "output_type": "stream",
     "text": [
      "100%|██████████| 18/18 [00:41<00:00,  2.31s/it]\n",
      "100%|██████████| 2/2 [00:04<00:00,  2.33s/it]\n"
     ]
    },
    {
     "name": "stdout",
     "output_type": "stream",
     "text": [
      "Epoch: 74\n",
      "Train_loss at epoch 74: 3.763691840211426\n",
      "Val_loss at epoch 74: 11.861515963703802\n"
     ]
    },
    {
     "name": "stderr",
     "output_type": "stream",
     "text": [
      "100%|██████████| 18/18 [00:41<00:00,  2.32s/it]\n",
      "100%|██████████| 2/2 [00:04<00:00,  2.37s/it]\n"
     ]
    },
    {
     "name": "stdout",
     "output_type": "stream",
     "text": [
      "Epoch: 75\n",
      "Train_loss at epoch 75: 3.374155826198982\n",
      "Val_loss at epoch 75: 10.56964982409362\n"
     ]
    },
    {
     "name": "stderr",
     "output_type": "stream",
     "text": [
      "100%|██████████| 18/18 [00:42<00:00,  2.38s/it]\n",
      "100%|██████████| 2/2 [00:04<00:00,  2.29s/it]\n"
     ]
    },
    {
     "name": "stdout",
     "output_type": "stream",
     "text": [
      "Epoch: 76\n",
      "Train_loss at epoch 76: 2.613211603203391\n",
      "Val_loss at epoch 76: 10.106404040026288\n"
     ]
    },
    {
     "name": "stderr",
     "output_type": "stream",
     "text": [
      "100%|██████████| 18/18 [00:42<00:00,  2.34s/it]\n",
      "100%|██████████| 2/2 [00:04<00:00,  2.26s/it]\n"
     ]
    },
    {
     "name": "stdout",
     "output_type": "stream",
     "text": [
      "Epoch: 77\n",
      "Train_loss at epoch 77: 2.7717589866096515\n",
      "Val_loss at epoch 77: 9.914410511598454\n"
     ]
    },
    {
     "name": "stderr",
     "output_type": "stream",
     "text": [
      "100%|██████████| 18/18 [00:42<00:00,  2.34s/it]\n",
      "100%|██████████| 2/2 [00:04<00:00,  2.28s/it]\n"
     ]
    },
    {
     "name": "stdout",
     "output_type": "stream",
     "text": [
      "Epoch: 78\n",
      "Train_loss at epoch 78: 2.623944469799349\n",
      "Val_loss at epoch 78: 10.37288949399964\n"
     ]
    },
    {
     "name": "stderr",
     "output_type": "stream",
     "text": [
      "100%|██████████| 18/18 [00:41<00:00,  2.33s/it]\n",
      "100%|██████████| 2/2 [00:04<00:00,  2.27s/it]\n"
     ]
    },
    {
     "name": "stdout",
     "output_type": "stream",
     "text": [
      "Epoch: 79\n",
      "Train_loss at epoch 79: 3.0657498612422613\n",
      "Val_loss at epoch 79: 10.19185051553677\n"
     ]
    },
    {
     "name": "stderr",
     "output_type": "stream",
     "text": [
      "100%|██████████| 18/18 [00:41<00:00,  2.33s/it]\n",
      "100%|██████████| 2/2 [00:04<00:00,  2.24s/it]\n"
     ]
    },
    {
     "name": "stdout",
     "output_type": "stream",
     "text": [
      "Epoch: 80\n",
      "Train_loss at epoch 80: 4.092864376195426\n",
      "Val_loss at epoch 80: 10.578984092358986\n"
     ]
    },
    {
     "name": "stderr",
     "output_type": "stream",
     "text": [
      "100%|██████████| 18/18 [00:41<00:00,  2.33s/it]\n",
      "100%|██████████| 2/2 [00:04<00:00,  2.25s/it]\n"
     ]
    },
    {
     "name": "stdout",
     "output_type": "stream",
     "text": [
      "Epoch: 81\n",
      "Train_loss at epoch 81: 3.8754593766955474\n",
      "Val_loss at epoch 81: 9.962339601625551\n"
     ]
    },
    {
     "name": "stderr",
     "output_type": "stream",
     "text": [
      "100%|██████████| 18/18 [00:41<00:00,  2.33s/it]\n",
      "100%|██████████| 2/2 [00:04<00:00,  2.23s/it]\n"
     ]
    },
    {
     "name": "stdout",
     "output_type": "stream",
     "text": [
      "Epoch: 82\n",
      "Train_loss at epoch 82: 2.31458718459354\n",
      "Val_loss at epoch 82: 9.705123051177761\n"
     ]
    },
    {
     "name": "stderr",
     "output_type": "stream",
     "text": [
      "100%|██████████| 18/18 [00:41<00:00,  2.32s/it]\n",
      "100%|██████████| 2/2 [00:04<00:00,  2.27s/it]\n"
     ]
    },
    {
     "name": "stdout",
     "output_type": "stream",
     "text": [
      "Epoch: 83\n",
      "Train_loss at epoch 83: 2.3619626212211973\n",
      "Val_loss at epoch 83: 10.325403927026663\n"
     ]
    },
    {
     "name": "stderr",
     "output_type": "stream",
     "text": [
      "100%|██████████| 18/18 [00:41<00:00,  2.32s/it]\n",
      "100%|██████████| 2/2 [00:04<00:00,  2.30s/it]\n"
     ]
    },
    {
     "name": "stdout",
     "output_type": "stream",
     "text": [
      "Epoch: 84\n",
      "Train_loss at epoch 84: 2.498820224584397\n",
      "Val_loss at epoch 84: 10.284300884816577\n"
     ]
    },
    {
     "name": "stderr",
     "output_type": "stream",
     "text": [
      "100%|██████████| 18/18 [00:41<00:00,  2.33s/it]\n",
      "100%|██████████| 2/2 [00:04<00:00,  2.34s/it]\n"
     ]
    },
    {
     "name": "stdout",
     "output_type": "stream",
     "text": [
      "Epoch: 85\n",
      "Train_loss at epoch 85: 2.0888537235600513\n",
      "Val_loss at epoch 85: 10.254704977106709\n"
     ]
    },
    {
     "name": "stderr",
     "output_type": "stream",
     "text": [
      "100%|██████████| 18/18 [00:41<00:00,  2.31s/it]\n",
      "100%|██████████| 2/2 [00:04<00:00,  2.29s/it]\n"
     ]
    },
    {
     "name": "stdout",
     "output_type": "stream",
     "text": [
      "Epoch: 86\n",
      "Train_loss at epoch 86: 2.404731974342367\n",
      "Val_loss at epoch 86: 10.499441033045336\n"
     ]
    },
    {
     "name": "stderr",
     "output_type": "stream",
     "text": [
      "100%|██████████| 18/18 [00:41<00:00,  2.31s/it]\n",
      "100%|██████████| 2/2 [00:04<00:00,  2.29s/it]\n"
     ]
    },
    {
     "name": "stdout",
     "output_type": "stream",
     "text": [
      "Epoch: 87\n",
      "Train_loss at epoch 87: 3.691560840873674\n",
      "Val_loss at epoch 87: 10.30672447761624\n"
     ]
    },
    {
     "name": "stderr",
     "output_type": "stream",
     "text": [
      "100%|██████████| 18/18 [00:41<00:00,  2.32s/it]\n",
      "100%|██████████| 2/2 [00:04<00:00,  2.27s/it]\n"
     ]
    },
    {
     "name": "stdout",
     "output_type": "stream",
     "text": [
      "Epoch: 88\n",
      "Train_loss at epoch 88: 3.284286947416876\n",
      "Val_loss at epoch 88: 9.959086037237153\n"
     ]
    },
    {
     "name": "stderr",
     "output_type": "stream",
     "text": [
      "100%|██████████| 18/18 [00:42<00:00,  2.39s/it]\n",
      "100%|██████████| 2/2 [00:04<00:00,  2.29s/it]\n"
     ]
    },
    {
     "name": "stdout",
     "output_type": "stream",
     "text": [
      "Epoch: 89\n",
      "Train_loss at epoch 89: 2.616487890404236\n",
      "Val_loss at epoch 89: 9.974006709343342\n"
     ]
    },
    {
     "name": "stderr",
     "output_type": "stream",
     "text": [
      "100%|██████████| 18/18 [00:44<00:00,  2.46s/it]\n",
      "100%|██████████| 2/2 [00:04<00:00,  2.28s/it]\n"
     ]
    },
    {
     "name": "stdout",
     "output_type": "stream",
     "text": [
      "Epoch: 90\n",
      "Train_loss at epoch 90: 2.3091662279489054\n",
      "Val_loss at epoch 90: 10.521089187289014\n"
     ]
    },
    {
     "name": "stderr",
     "output_type": "stream",
     "text": [
      "100%|██████████| 18/18 [00:42<00:00,  2.37s/it]\n",
      "100%|██████████| 2/2 [00:04<00:00,  2.29s/it]\n"
     ]
    },
    {
     "name": "stdout",
     "output_type": "stream",
     "text": [
      "Epoch: 91\n",
      "Train_loss at epoch 91: 2.8922648150412087\n",
      "Val_loss at epoch 91: 9.689114974551304\n"
     ]
    },
    {
     "name": "stderr",
     "output_type": "stream",
     "text": [
      "100%|██████████| 18/18 [00:42<00:00,  2.35s/it]\n",
      "100%|██████████| 2/2 [00:04<00:00,  2.26s/it]\n"
     ]
    },
    {
     "name": "stdout",
     "output_type": "stream",
     "text": [
      "Epoch: 92\n",
      "Train_loss at epoch 92: 2.55127547352253\n",
      "Val_loss at epoch 92: 9.717635480873305\n"
     ]
    },
    {
     "name": "stderr",
     "output_type": "stream",
     "text": [
      "100%|██████████| 18/18 [00:42<00:00,  2.34s/it]\n",
      "100%|██████████| 2/2 [00:04<00:00,  2.29s/it]\n"
     ]
    },
    {
     "name": "stdout",
     "output_type": "stream",
     "text": [
      "Epoch: 93\n",
      "Train_loss at epoch 93: 2.617764587367457\n",
      "Val_loss at epoch 93: 10.029699626657342\n"
     ]
    },
    {
     "name": "stderr",
     "output_type": "stream",
     "text": [
      "100%|██████████| 18/18 [00:42<00:00,  2.34s/it]\n",
      "100%|██████████| 2/2 [00:04<00:00,  2.31s/it]\n"
     ]
    },
    {
     "name": "stdout",
     "output_type": "stream",
     "text": [
      "Epoch: 94\n",
      "Train_loss at epoch 94: 2.7827146854748195\n",
      "Val_loss at epoch 94: 9.295367879344083\n"
     ]
    },
    {
     "name": "stderr",
     "output_type": "stream",
     "text": [
      "100%|██████████| 18/18 [00:42<00:00,  2.34s/it]\n",
      "100%|██████████| 2/2 [00:04<00:00,  2.33s/it]\n"
     ]
    },
    {
     "name": "stdout",
     "output_type": "stream",
     "text": [
      "Epoch: 95\n",
      "Train_loss at epoch 95: 2.4412016000629353\n",
      "Val_loss at epoch 95: 10.249006901947148\n"
     ]
    },
    {
     "name": "stderr",
     "output_type": "stream",
     "text": [
      "100%|██████████| 18/18 [00:42<00:00,  2.34s/it]\n",
      "100%|██████████| 2/2 [00:04<00:00,  2.33s/it]\n"
     ]
    },
    {
     "name": "stdout",
     "output_type": "stream",
     "text": [
      "Epoch: 96\n",
      "Train_loss at epoch 96: 3.1748531807182268\n",
      "Val_loss at epoch 96: 9.775256959852538\n"
     ]
    },
    {
     "name": "stderr",
     "output_type": "stream",
     "text": [
      "100%|██████████| 18/18 [00:44<00:00,  2.47s/it]\n",
      "100%|██████████| 2/2 [00:05<00:00,  2.62s/it]\n"
     ]
    },
    {
     "name": "stdout",
     "output_type": "stream",
     "text": [
      "Epoch: 97\n",
      "Train_loss at epoch 97: 3.569111883059982\n",
      "Val_loss at epoch 97: 9.893287438780721\n"
     ]
    },
    {
     "name": "stderr",
     "output_type": "stream",
     "text": [
      "100%|██████████| 18/18 [00:45<00:00,  2.53s/it]\n",
      "100%|██████████| 2/2 [00:04<00:00,  2.48s/it]\n"
     ]
    },
    {
     "name": "stdout",
     "output_type": "stream",
     "text": [
      "Epoch: 98\n",
      "Train_loss at epoch 98: 2.9213469926667335\n",
      "Val_loss at epoch 98: 10.952801173109219\n"
     ]
    },
    {
     "name": "stderr",
     "output_type": "stream",
     "text": [
      "100%|██████████| 18/18 [00:45<00:00,  2.55s/it]\n",
      "100%|██████████| 2/2 [00:05<00:00,  2.58s/it]\n"
     ]
    },
    {
     "name": "stdout",
     "output_type": "stream",
     "text": [
      "Epoch: 99\n",
      "Train_loss at epoch 99: 2.7840575100803933\n",
      "Val_loss at epoch 99: 10.096755546564262\n"
     ]
    },
    {
     "name": "stderr",
     "output_type": "stream",
     "text": [
      "100%|██████████| 18/18 [00:43<00:00,  2.44s/it]\n",
      "100%|██████████| 2/2 [00:04<00:00,  2.38s/it]"
     ]
    },
    {
     "name": "stdout",
     "output_type": "stream",
     "text": [
      "Epoch: 100\n",
      "Train_loss at epoch 100: 3.032014752746198\n",
      "Val_loss at epoch 100: 10.387007888100142\n"
     ]
    },
    {
     "name": "stderr",
     "output_type": "stream",
     "text": [
      "\n"
     ]
    }
   ],
   "source": [
    "torch.cuda.empty_cache()\n",
    "model = SimpleCNN().to(device)\n",
    "criterion = nn.SmoothL1Loss().to(device)\n",
    "optimizer = optim.Adam(model.parameters(), lr=lr)\n",
    "\n",
    "train_loss = []\n",
    "val_loss = []\n",
    "\n",
    "for epoch in range(epochs):\n",
    "    train_running_loss = 0.0\n",
    "    val_running_loss = 0.0\n",
    "    model.train()\n",
    "    for i, data in tqdm(enumerate(train_loader), total=(len(train_loader))):\n",
    "        image, keypoints = data[0].to(device), data[1].to(device)\n",
    "        preds = model(image)\n",
    "        loss = criterion(preds, keypoints)\n",
    "        loss.backward()\n",
    "        optimizer.step()\n",
    "        optimizer.zero_grad()\n",
    "\n",
    "        train_running_loss += loss.item()\n",
    "    train_loss.append(train_running_loss / (ceil(len(train_dataset) / batch_size)))\n",
    "\n",
    "    model.eval()\n",
    "\n",
    "    with torch.no_grad():\n",
    "        val_running_loss = 0.0\n",
    "        for i, data in tqdm(enumerate(val_loader), total=(len(val_loader))):\n",
    "            image, keypoints = data[0].to(device), data[1].to(device)\n",
    "            preds = model(image)\n",
    "            loss = criterion(preds, keypoints)\n",
    "            val_running_loss += loss.item()\n",
    "        val_loss.append(val_running_loss / ceil(len(val_dataset) / batch_size))\n",
    "    print(f'Epoch: {epoch + 1}')\n",
    "    print(f'Train_loss at epoch {epoch + 1}: {train_loss[-1]}')\n",
    "    print(f'Val_loss at epoch {epoch + 1}: {val_loss[-1]}')"
   ],
   "metadata": {
    "collapsed": false,
    "pycharm": {
     "name": "#%%\n"
    }
   }
  },
  {
   "cell_type": "markdown",
   "source": [
    "## Plot loss"
   ],
   "metadata": {
    "collapsed": false,
    "pycharm": {
     "name": "#%% md\n"
    }
   }
  },
  {
   "cell_type": "code",
   "execution_count": 6,
   "outputs": [
    {
     "data": {
      "text/plain": "<Figure size 1080x504 with 1 Axes>",
      "image/png": "[encoded data removed]"
     },
     "metadata": {
      "needs_background": "light"
     },
     "output_type": "display_data"
    }
   ],
   "source": [
    "plt.figure(figsize=(15,7))\n",
    "plt.plot(train_loss, label=\"train\")\n",
    "plt.plot(val_loss, label=\"val\")\n",
    "plt.xlabel(\"iterations\")\n",
    "plt.ylabel(\"Loss\")\n",
    "plt.legend()\n",
    "plt.show()"
   ],
   "metadata": {
    "collapsed": false,
    "pycharm": {
     "name": "#%%\n"
    }
   }
  }
 ],
 "metadata": {
  "kernelspec": {
   "display_name": "Python 3",
   "language": "python",
   "name": "python3"
  },
  "language_info": {
   "codemirror_mode": {
    "name": "ipython",
    "version": 2
   },
   "file_extension": ".py",
   "mimetype": "text/x-python",
   "name": "python",
   "nbconvert_exporter": "python",
   "pygments_lexer": "ipython2",
   "version": "2.7.6"
  }
 },
 "nbformat": 4,
 "nbformat_minor": 0
}